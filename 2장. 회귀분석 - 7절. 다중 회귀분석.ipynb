{
 "cells": [
  {
   "cell_type": "markdown",
   "metadata": {},
   "source": [
    "### 다중 회귀분석\n",
    "* 아파트 가격 예측\n",
    "<pre>\n",
    "y = a*x + b*x**2 + c*x**3  -- 단순회귀분석\n",
    "y = a1*x1 + a2*x2 + a3*x3 ... --다중 회귀분석\n",
    "</pre>"
   ]
  },
  {
   "cell_type": "code",
   "execution_count": 1,
   "metadata": {},
   "outputs": [],
   "source": [
    "import statsmodels.api as sm\n",
    "Boston = sm.datasets.get_rdataset(\"Boston\", package=\"MASS\")\n",
    "X = Boston.data.iloc[:, :-1]\n",
    "y = Boston.data.iloc[:, -1]"
   ]
  },
  {
   "cell_type": "code",
   "execution_count": 2,
   "metadata": {},
   "outputs": [],
   "source": [
    "from sklearn.model_selection import train_test_split\n",
    "x_train, x_test, y_train, y_test = train_test_split(X, y, test_size=0.3)"
   ]
  },
  {
   "cell_type": "code",
   "execution_count": 3,
   "metadata": {},
   "outputs": [
    {
     "data": {
      "text/html": [
       "<style>#sk-container-id-1 {color: black;background-color: white;}#sk-container-id-1 pre{padding: 0;}#sk-container-id-1 div.sk-toggleable {background-color: white;}#sk-container-id-1 label.sk-toggleable__label {cursor: pointer;display: block;width: 100%;margin-bottom: 0;padding: 0.3em;box-sizing: border-box;text-align: center;}#sk-container-id-1 label.sk-toggleable__label-arrow:before {content: \"▸\";float: left;margin-right: 0.25em;color: #696969;}#sk-container-id-1 label.sk-toggleable__label-arrow:hover:before {color: black;}#sk-container-id-1 div.sk-estimator:hover label.sk-toggleable__label-arrow:before {color: black;}#sk-container-id-1 div.sk-toggleable__content {max-height: 0;max-width: 0;overflow: hidden;text-align: left;background-color: #f0f8ff;}#sk-container-id-1 div.sk-toggleable__content pre {margin: 0.2em;color: black;border-radius: 0.25em;background-color: #f0f8ff;}#sk-container-id-1 input.sk-toggleable__control:checked~div.sk-toggleable__content {max-height: 200px;max-width: 100%;overflow: auto;}#sk-container-id-1 input.sk-toggleable__control:checked~label.sk-toggleable__label-arrow:before {content: \"▾\";}#sk-container-id-1 div.sk-estimator input.sk-toggleable__control:checked~label.sk-toggleable__label {background-color: #d4ebff;}#sk-container-id-1 div.sk-label input.sk-toggleable__control:checked~label.sk-toggleable__label {background-color: #d4ebff;}#sk-container-id-1 input.sk-hidden--visually {border: 0;clip: rect(1px 1px 1px 1px);clip: rect(1px, 1px, 1px, 1px);height: 1px;margin: -1px;overflow: hidden;padding: 0;position: absolute;width: 1px;}#sk-container-id-1 div.sk-estimator {font-family: monospace;background-color: #f0f8ff;border: 1px dotted black;border-radius: 0.25em;box-sizing: border-box;margin-bottom: 0.5em;}#sk-container-id-1 div.sk-estimator:hover {background-color: #d4ebff;}#sk-container-id-1 div.sk-parallel-item::after {content: \"\";width: 100%;border-bottom: 1px solid gray;flex-grow: 1;}#sk-container-id-1 div.sk-label:hover label.sk-toggleable__label {background-color: #d4ebff;}#sk-container-id-1 div.sk-serial::before {content: \"\";position: absolute;border-left: 1px solid gray;box-sizing: border-box;top: 0;bottom: 0;left: 50%;z-index: 0;}#sk-container-id-1 div.sk-serial {display: flex;flex-direction: column;align-items: center;background-color: white;padding-right: 0.2em;padding-left: 0.2em;position: relative;}#sk-container-id-1 div.sk-item {position: relative;z-index: 1;}#sk-container-id-1 div.sk-parallel {display: flex;align-items: stretch;justify-content: center;background-color: white;position: relative;}#sk-container-id-1 div.sk-item::before, #sk-container-id-1 div.sk-parallel-item::before {content: \"\";position: absolute;border-left: 1px solid gray;box-sizing: border-box;top: 0;bottom: 0;left: 50%;z-index: -1;}#sk-container-id-1 div.sk-parallel-item {display: flex;flex-direction: column;z-index: 1;position: relative;background-color: white;}#sk-container-id-1 div.sk-parallel-item:first-child::after {align-self: flex-end;width: 50%;}#sk-container-id-1 div.sk-parallel-item:last-child::after {align-self: flex-start;width: 50%;}#sk-container-id-1 div.sk-parallel-item:only-child::after {width: 0;}#sk-container-id-1 div.sk-dashed-wrapped {border: 1px dashed gray;margin: 0 0.4em 0.5em 0.4em;box-sizing: border-box;padding-bottom: 0.4em;background-color: white;}#sk-container-id-1 div.sk-label label {font-family: monospace;font-weight: bold;display: inline-block;line-height: 1.2em;}#sk-container-id-1 div.sk-label-container {text-align: center;}#sk-container-id-1 div.sk-container {/* jupyter's `normalize.less` sets `[hidden] { display: none; }` but bootstrap.min.css set `[hidden] { display: none !important; }` so we also need the `!important` here to be able to override the default hidden behavior on the sphinx rendered scikit-learn.org. See: https://github.com/scikit-learn/scikit-learn/issues/21755 */display: inline-block !important;position: relative;}#sk-container-id-1 div.sk-text-repr-fallback {display: none;}</style><div id=\"sk-container-id-1\" class=\"sk-top-container\"><div class=\"sk-text-repr-fallback\"><pre>LinearRegression()</pre><b>In a Jupyter environment, please rerun this cell to show the HTML representation or trust the notebook. <br />On GitHub, the HTML representation is unable to render, please try loading this page with nbviewer.org.</b></div><div class=\"sk-container\" hidden><div class=\"sk-item\"><div class=\"sk-estimator sk-toggleable\"><input class=\"sk-toggleable__control sk-hidden--visually\" id=\"sk-estimator-id-1\" type=\"checkbox\" checked><label for=\"sk-estimator-id-1\" class=\"sk-toggleable__label sk-toggleable__label-arrow\">LinearRegression</label><div class=\"sk-toggleable__content\"><pre>LinearRegression()</pre></div></div></div></div></div>"
      ],
      "text/plain": [
       "LinearRegression()"
      ]
     },
     "execution_count": 3,
     "metadata": {},
     "output_type": "execute_result"
    }
   ],
   "source": [
    "from sklearn.linear_model import LinearRegression\n",
    "model_boston = LinearRegression()\n",
    "model_boston.fit(x_train, y_train)"
   ]
  },
  {
   "cell_type": "code",
   "execution_count": 4,
   "metadata": {},
   "outputs": [
    {
     "data": {
      "text/plain": [
       "0.7610130166044289"
      ]
     },
     "execution_count": 4,
     "metadata": {},
     "output_type": "execute_result"
    }
   ],
   "source": [
    "model_boston.score(x_train, y_train)"
   ]
  },
  {
   "cell_type": "code",
   "execution_count": 5,
   "metadata": {},
   "outputs": [
    {
     "data": {
      "text/plain": [
       "0.6575986659564124"
      ]
     },
     "execution_count": 5,
     "metadata": {},
     "output_type": "execute_result"
    }
   ],
   "source": [
    "model_boston.score(x_test, y_test)"
   ]
  },
  {
   "cell_type": "code",
   "execution_count": 6,
   "metadata": {},
   "outputs": [],
   "source": [
    "pred = model_boston.predict(x_test)"
   ]
  },
  {
   "cell_type": "code",
   "execution_count": 7,
   "metadata": {},
   "outputs": [
    {
     "data": {
      "text/plain": [
       "0.6575986659564124"
      ]
     },
     "execution_count": 7,
     "metadata": {},
     "output_type": "execute_result"
    }
   ],
   "source": [
    "from sklearn.metrics import r2_score\n",
    "r2_score(y_test, pred)"
   ]
  },
  {
   "cell_type": "code",
   "execution_count": 8,
   "metadata": {},
   "outputs": [
    {
     "data": {
      "text/plain": [
       "32.37967477070963"
      ]
     },
     "execution_count": 8,
     "metadata": {},
     "output_type": "execute_result"
    }
   ],
   "source": [
    "from sklearn.metrics import mean_squared_error\n",
    "mse = mean_squared_error(y_test, pred) # MSE\n",
    "mse"
   ]
  },
  {
   "cell_type": "code",
   "execution_count": 9,
   "metadata": {},
   "outputs": [
    {
     "data": {
      "text/plain": [
       "5.690314118808348"
      ]
     },
     "execution_count": 9,
     "metadata": {},
     "output_type": "execute_result"
    }
   ],
   "source": [
    "import math\n",
    "math.sqrt(mse) # RMSE"
   ]
  },
  {
   "cell_type": "code",
   "execution_count": 10,
   "metadata": {},
   "outputs": [
    {
     "data": {
      "text/plain": [
       "array([-8.15515852e-02,  3.47007962e-02, -1.48996024e-02,  3.90439976e+00,\n",
       "       -1.42396137e+01,  4.95066963e+00, -2.88980055e-02, -1.32509934e+00,\n",
       "        2.01550997e-01, -1.16466543e-02, -8.71500322e-01,  6.73358309e-03,\n",
       "       -3.29314319e-01])"
      ]
     },
     "execution_count": 10,
     "metadata": {},
     "output_type": "execute_result"
    }
   ],
   "source": [
    "model_boston.coef_"
   ]
  },
  {
   "cell_type": "code",
   "execution_count": 11,
   "metadata": {},
   "outputs": [],
   "source": [
    "import statsmodels.api as sm\n",
    "Boston = sm.datasets.get_rdataset(\"Boston\", package=\"MASS\")\n",
    "boston_df = Boston.data"
   ]
  },
  {
   "cell_type": "code",
   "execution_count": 12,
   "metadata": {},
   "outputs": [
    {
     "data": {
      "text/html": [
       "<div>\n",
       "<style scoped>\n",
       "    .dataframe tbody tr th:only-of-type {\n",
       "        vertical-align: middle;\n",
       "    }\n",
       "\n",
       "    .dataframe tbody tr th {\n",
       "        vertical-align: top;\n",
       "    }\n",
       "\n",
       "    .dataframe thead th {\n",
       "        text-align: right;\n",
       "    }\n",
       "</style>\n",
       "<table border=\"1\" class=\"dataframe\">\n",
       "  <thead>\n",
       "    <tr style=\"text-align: right;\">\n",
       "      <th></th>\n",
       "      <th>crim</th>\n",
       "      <th>zn</th>\n",
       "      <th>indus</th>\n",
       "      <th>chas</th>\n",
       "      <th>nox</th>\n",
       "      <th>rm</th>\n",
       "      <th>age</th>\n",
       "      <th>dis</th>\n",
       "      <th>rad</th>\n",
       "      <th>tax</th>\n",
       "      <th>ptratio</th>\n",
       "      <th>black</th>\n",
       "      <th>lstat</th>\n",
       "      <th>medv</th>\n",
       "    </tr>\n",
       "  </thead>\n",
       "  <tbody>\n",
       "    <tr>\n",
       "      <th>0</th>\n",
       "      <td>0.00632</td>\n",
       "      <td>18.0</td>\n",
       "      <td>2.31</td>\n",
       "      <td>0</td>\n",
       "      <td>0.538</td>\n",
       "      <td>6.575</td>\n",
       "      <td>65.2</td>\n",
       "      <td>4.0900</td>\n",
       "      <td>1</td>\n",
       "      <td>296</td>\n",
       "      <td>15.3</td>\n",
       "      <td>396.90</td>\n",
       "      <td>4.98</td>\n",
       "      <td>24.0</td>\n",
       "    </tr>\n",
       "    <tr>\n",
       "      <th>1</th>\n",
       "      <td>0.02731</td>\n",
       "      <td>0.0</td>\n",
       "      <td>7.07</td>\n",
       "      <td>0</td>\n",
       "      <td>0.469</td>\n",
       "      <td>6.421</td>\n",
       "      <td>78.9</td>\n",
       "      <td>4.9671</td>\n",
       "      <td>2</td>\n",
       "      <td>242</td>\n",
       "      <td>17.8</td>\n",
       "      <td>396.90</td>\n",
       "      <td>9.14</td>\n",
       "      <td>21.6</td>\n",
       "    </tr>\n",
       "    <tr>\n",
       "      <th>2</th>\n",
       "      <td>0.02729</td>\n",
       "      <td>0.0</td>\n",
       "      <td>7.07</td>\n",
       "      <td>0</td>\n",
       "      <td>0.469</td>\n",
       "      <td>7.185</td>\n",
       "      <td>61.1</td>\n",
       "      <td>4.9671</td>\n",
       "      <td>2</td>\n",
       "      <td>242</td>\n",
       "      <td>17.8</td>\n",
       "      <td>392.83</td>\n",
       "      <td>4.03</td>\n",
       "      <td>34.7</td>\n",
       "    </tr>\n",
       "    <tr>\n",
       "      <th>3</th>\n",
       "      <td>0.03237</td>\n",
       "      <td>0.0</td>\n",
       "      <td>2.18</td>\n",
       "      <td>0</td>\n",
       "      <td>0.458</td>\n",
       "      <td>6.998</td>\n",
       "      <td>45.8</td>\n",
       "      <td>6.0622</td>\n",
       "      <td>3</td>\n",
       "      <td>222</td>\n",
       "      <td>18.7</td>\n",
       "      <td>394.63</td>\n",
       "      <td>2.94</td>\n",
       "      <td>33.4</td>\n",
       "    </tr>\n",
       "    <tr>\n",
       "      <th>4</th>\n",
       "      <td>0.06905</td>\n",
       "      <td>0.0</td>\n",
       "      <td>2.18</td>\n",
       "      <td>0</td>\n",
       "      <td>0.458</td>\n",
       "      <td>7.147</td>\n",
       "      <td>54.2</td>\n",
       "      <td>6.0622</td>\n",
       "      <td>3</td>\n",
       "      <td>222</td>\n",
       "      <td>18.7</td>\n",
       "      <td>396.90</td>\n",
       "      <td>5.33</td>\n",
       "      <td>36.2</td>\n",
       "    </tr>\n",
       "  </tbody>\n",
       "</table>\n",
       "</div>"
      ],
      "text/plain": [
       "      crim    zn  indus  chas    nox     rm   age     dis  rad  tax  ptratio  \\\n",
       "0  0.00632  18.0   2.31     0  0.538  6.575  65.2  4.0900    1  296     15.3   \n",
       "1  0.02731   0.0   7.07     0  0.469  6.421  78.9  4.9671    2  242     17.8   \n",
       "2  0.02729   0.0   7.07     0  0.469  7.185  61.1  4.9671    2  242     17.8   \n",
       "3  0.03237   0.0   2.18     0  0.458  6.998  45.8  6.0622    3  222     18.7   \n",
       "4  0.06905   0.0   2.18     0  0.458  7.147  54.2  6.0622    3  222     18.7   \n",
       "\n",
       "    black  lstat  medv  \n",
       "0  396.90   4.98  24.0  \n",
       "1  396.90   9.14  21.6  \n",
       "2  392.83   4.03  34.7  \n",
       "3  394.63   2.94  33.4  \n",
       "4  396.90   5.33  36.2  "
      ]
     },
     "execution_count": 12,
     "metadata": {},
     "output_type": "execute_result"
    }
   ],
   "source": [
    "boston_df.head()"
   ]
  },
  {
   "cell_type": "code",
   "execution_count": 13,
   "metadata": {},
   "outputs": [
    {
     "data": {
      "text/html": [
       "<table class=\"simpletable\">\n",
       "<caption>OLS Regression Results</caption>\n",
       "<tr>\n",
       "  <th>Dep. Variable:</th>          <td>medv</td>       <th>  R-squared:         </th> <td>   0.741</td> \n",
       "</tr>\n",
       "<tr>\n",
       "  <th>Model:</th>                   <td>OLS</td>       <th>  Adj. R-squared:    </th> <td>   0.734</td> \n",
       "</tr>\n",
       "<tr>\n",
       "  <th>Method:</th>             <td>Least Squares</td>  <th>  F-statistic:       </th> <td>   108.1</td> \n",
       "</tr>\n",
       "<tr>\n",
       "  <th>Date:</th>             <td>Fri, 31 May 2024</td> <th>  Prob (F-statistic):</th> <td>6.72e-135</td>\n",
       "</tr>\n",
       "<tr>\n",
       "  <th>Time:</th>                 <td>16:23:16</td>     <th>  Log-Likelihood:    </th> <td> -1498.8</td> \n",
       "</tr>\n",
       "<tr>\n",
       "  <th>No. Observations:</th>      <td>   506</td>      <th>  AIC:               </th> <td>   3026.</td> \n",
       "</tr>\n",
       "<tr>\n",
       "  <th>Df Residuals:</th>          <td>   492</td>      <th>  BIC:               </th> <td>   3085.</td> \n",
       "</tr>\n",
       "<tr>\n",
       "  <th>Df Model:</th>              <td>    13</td>      <th>                     </th>     <td> </td>    \n",
       "</tr>\n",
       "<tr>\n",
       "  <th>Covariance Type:</th>      <td>nonrobust</td>    <th>                     </th>     <td> </td>    \n",
       "</tr>\n",
       "</table>\n",
       "<table class=\"simpletable\">\n",
       "<tr>\n",
       "      <td></td>         <th>coef</th>     <th>std err</th>      <th>t</th>      <th>P>|t|</th>  <th>[0.025</th>    <th>0.975]</th>  \n",
       "</tr>\n",
       "<tr>\n",
       "  <th>Intercept</th> <td>   36.4595</td> <td>    5.103</td> <td>    7.144</td> <td> 0.000</td> <td>   26.432</td> <td>   46.487</td>\n",
       "</tr>\n",
       "<tr>\n",
       "  <th>crim</th>      <td>   -0.1080</td> <td>    0.033</td> <td>   -3.287</td> <td> 0.001</td> <td>   -0.173</td> <td>   -0.043</td>\n",
       "</tr>\n",
       "<tr>\n",
       "  <th>zn</th>        <td>    0.0464</td> <td>    0.014</td> <td>    3.382</td> <td> 0.001</td> <td>    0.019</td> <td>    0.073</td>\n",
       "</tr>\n",
       "<tr>\n",
       "  <th>indus</th>     <td>    0.0206</td> <td>    0.061</td> <td>    0.334</td> <td> 0.738</td> <td>   -0.100</td> <td>    0.141</td>\n",
       "</tr>\n",
       "<tr>\n",
       "  <th>chas</th>      <td>    2.6867</td> <td>    0.862</td> <td>    3.118</td> <td> 0.002</td> <td>    0.994</td> <td>    4.380</td>\n",
       "</tr>\n",
       "<tr>\n",
       "  <th>nox</th>       <td>  -17.7666</td> <td>    3.820</td> <td>   -4.651</td> <td> 0.000</td> <td>  -25.272</td> <td>  -10.262</td>\n",
       "</tr>\n",
       "<tr>\n",
       "  <th>rm</th>        <td>    3.8099</td> <td>    0.418</td> <td>    9.116</td> <td> 0.000</td> <td>    2.989</td> <td>    4.631</td>\n",
       "</tr>\n",
       "<tr>\n",
       "  <th>age</th>       <td>    0.0007</td> <td>    0.013</td> <td>    0.052</td> <td> 0.958</td> <td>   -0.025</td> <td>    0.027</td>\n",
       "</tr>\n",
       "<tr>\n",
       "  <th>dis</th>       <td>   -1.4756</td> <td>    0.199</td> <td>   -7.398</td> <td> 0.000</td> <td>   -1.867</td> <td>   -1.084</td>\n",
       "</tr>\n",
       "<tr>\n",
       "  <th>rad</th>       <td>    0.3060</td> <td>    0.066</td> <td>    4.613</td> <td> 0.000</td> <td>    0.176</td> <td>    0.436</td>\n",
       "</tr>\n",
       "<tr>\n",
       "  <th>tax</th>       <td>   -0.0123</td> <td>    0.004</td> <td>   -3.280</td> <td> 0.001</td> <td>   -0.020</td> <td>   -0.005</td>\n",
       "</tr>\n",
       "<tr>\n",
       "  <th>ptratio</th>   <td>   -0.9527</td> <td>    0.131</td> <td>   -7.283</td> <td> 0.000</td> <td>   -1.210</td> <td>   -0.696</td>\n",
       "</tr>\n",
       "<tr>\n",
       "  <th>black</th>     <td>    0.0093</td> <td>    0.003</td> <td>    3.467</td> <td> 0.001</td> <td>    0.004</td> <td>    0.015</td>\n",
       "</tr>\n",
       "<tr>\n",
       "  <th>lstat</th>     <td>   -0.5248</td> <td>    0.051</td> <td>  -10.347</td> <td> 0.000</td> <td>   -0.624</td> <td>   -0.425</td>\n",
       "</tr>\n",
       "</table>\n",
       "<table class=\"simpletable\">\n",
       "<tr>\n",
       "  <th>Omnibus:</th>       <td>178.041</td> <th>  Durbin-Watson:     </th> <td>   1.078</td> \n",
       "</tr>\n",
       "<tr>\n",
       "  <th>Prob(Omnibus):</th> <td> 0.000</td>  <th>  Jarque-Bera (JB):  </th> <td> 783.126</td> \n",
       "</tr>\n",
       "<tr>\n",
       "  <th>Skew:</th>          <td> 1.521</td>  <th>  Prob(JB):          </th> <td>8.84e-171</td>\n",
       "</tr>\n",
       "<tr>\n",
       "  <th>Kurtosis:</th>      <td> 8.281</td>  <th>  Cond. No.          </th> <td>1.51e+04</td> \n",
       "</tr>\n",
       "</table><br/><br/>Notes:<br/>[1] Standard Errors assume that the covariance matrix of the errors is correctly specified.<br/>[2] The condition number is large, 1.51e+04. This might indicate that there are<br/>strong multicollinearity or other numerical problems."
      ],
      "text/latex": [
       "\\begin{center}\n",
       "\\begin{tabular}{lclc}\n",
       "\\toprule\n",
       "\\textbf{Dep. Variable:}    &       medv       & \\textbf{  R-squared:         } &     0.741   \\\\\n",
       "\\textbf{Model:}            &       OLS        & \\textbf{  Adj. R-squared:    } &     0.734   \\\\\n",
       "\\textbf{Method:}           &  Least Squares   & \\textbf{  F-statistic:       } &     108.1   \\\\\n",
       "\\textbf{Date:}             & Fri, 31 May 2024 & \\textbf{  Prob (F-statistic):} & 6.72e-135   \\\\\n",
       "\\textbf{Time:}             &     16:23:16     & \\textbf{  Log-Likelihood:    } &   -1498.8   \\\\\n",
       "\\textbf{No. Observations:} &         506      & \\textbf{  AIC:               } &     3026.   \\\\\n",
       "\\textbf{Df Residuals:}     &         492      & \\textbf{  BIC:               } &     3085.   \\\\\n",
       "\\textbf{Df Model:}         &          13      & \\textbf{                     } &             \\\\\n",
       "\\textbf{Covariance Type:}  &    nonrobust     & \\textbf{                     } &             \\\\\n",
       "\\bottomrule\n",
       "\\end{tabular}\n",
       "\\begin{tabular}{lcccccc}\n",
       "                   & \\textbf{coef} & \\textbf{std err} & \\textbf{t} & \\textbf{P$> |$t$|$} & \\textbf{[0.025} & \\textbf{0.975]}  \\\\\n",
       "\\midrule\n",
       "\\textbf{Intercept} &      36.4595  &        5.103     &     7.144  &         0.000        &       26.432    &       46.487     \\\\\n",
       "\\textbf{crim}      &      -0.1080  &        0.033     &    -3.287  &         0.001        &       -0.173    &       -0.043     \\\\\n",
       "\\textbf{zn}        &       0.0464  &        0.014     &     3.382  &         0.001        &        0.019    &        0.073     \\\\\n",
       "\\textbf{indus}     &       0.0206  &        0.061     &     0.334  &         0.738        &       -0.100    &        0.141     \\\\\n",
       "\\textbf{chas}      &       2.6867  &        0.862     &     3.118  &         0.002        &        0.994    &        4.380     \\\\\n",
       "\\textbf{nox}       &     -17.7666  &        3.820     &    -4.651  &         0.000        &      -25.272    &      -10.262     \\\\\n",
       "\\textbf{rm}        &       3.8099  &        0.418     &     9.116  &         0.000        &        2.989    &        4.631     \\\\\n",
       "\\textbf{age}       &       0.0007  &        0.013     &     0.052  &         0.958        &       -0.025    &        0.027     \\\\\n",
       "\\textbf{dis}       &      -1.4756  &        0.199     &    -7.398  &         0.000        &       -1.867    &       -1.084     \\\\\n",
       "\\textbf{rad}       &       0.3060  &        0.066     &     4.613  &         0.000        &        0.176    &        0.436     \\\\\n",
       "\\textbf{tax}       &      -0.0123  &        0.004     &    -3.280  &         0.001        &       -0.020    &       -0.005     \\\\\n",
       "\\textbf{ptratio}   &      -0.9527  &        0.131     &    -7.283  &         0.000        &       -1.210    &       -0.696     \\\\\n",
       "\\textbf{black}     &       0.0093  &        0.003     &     3.467  &         0.001        &        0.004    &        0.015     \\\\\n",
       "\\textbf{lstat}     &      -0.5248  &        0.051     &   -10.347  &         0.000        &       -0.624    &       -0.425     \\\\\n",
       "\\bottomrule\n",
       "\\end{tabular}\n",
       "\\begin{tabular}{lclc}\n",
       "\\textbf{Omnibus:}       & 178.041 & \\textbf{  Durbin-Watson:     } &     1.078  \\\\\n",
       "\\textbf{Prob(Omnibus):} &   0.000 & \\textbf{  Jarque-Bera (JB):  } &   783.126  \\\\\n",
       "\\textbf{Skew:}          &   1.521 & \\textbf{  Prob(JB):          } & 8.84e-171  \\\\\n",
       "\\textbf{Kurtosis:}      &   8.281 & \\textbf{  Cond. No.          } &  1.51e+04  \\\\\n",
       "\\bottomrule\n",
       "\\end{tabular}\n",
       "%\\caption{OLS Regression Results}\n",
       "\\end{center}\n",
       "\n",
       "Notes: \\newline\n",
       " [1] Standard Errors assume that the covariance matrix of the errors is correctly specified. \\newline\n",
       " [2] The condition number is large, 1.51e+04. This might indicate that there are \\newline\n",
       " strong multicollinearity or other numerical problems."
      ],
      "text/plain": [
       "<class 'statsmodels.iolib.summary.Summary'>\n",
       "\"\"\"\n",
       "                            OLS Regression Results                            \n",
       "==============================================================================\n",
       "Dep. Variable:                   medv   R-squared:                       0.741\n",
       "Model:                            OLS   Adj. R-squared:                  0.734\n",
       "Method:                 Least Squares   F-statistic:                     108.1\n",
       "Date:                Fri, 31 May 2024   Prob (F-statistic):          6.72e-135\n",
       "Time:                        16:23:16   Log-Likelihood:                -1498.8\n",
       "No. Observations:                 506   AIC:                             3026.\n",
       "Df Residuals:                     492   BIC:                             3085.\n",
       "Df Model:                          13                                         \n",
       "Covariance Type:            nonrobust                                         \n",
       "==============================================================================\n",
       "                 coef    std err          t      P>|t|      [0.025      0.975]\n",
       "------------------------------------------------------------------------------\n",
       "Intercept     36.4595      5.103      7.144      0.000      26.432      46.487\n",
       "crim          -0.1080      0.033     -3.287      0.001      -0.173      -0.043\n",
       "zn             0.0464      0.014      3.382      0.001       0.019       0.073\n",
       "indus          0.0206      0.061      0.334      0.738      -0.100       0.141\n",
       "chas           2.6867      0.862      3.118      0.002       0.994       4.380\n",
       "nox          -17.7666      3.820     -4.651      0.000     -25.272     -10.262\n",
       "rm             3.8099      0.418      9.116      0.000       2.989       4.631\n",
       "age            0.0007      0.013      0.052      0.958      -0.025       0.027\n",
       "dis           -1.4756      0.199     -7.398      0.000      -1.867      -1.084\n",
       "rad            0.3060      0.066      4.613      0.000       0.176       0.436\n",
       "tax           -0.0123      0.004     -3.280      0.001      -0.020      -0.005\n",
       "ptratio       -0.9527      0.131     -7.283      0.000      -1.210      -0.696\n",
       "black          0.0093      0.003      3.467      0.001       0.004       0.015\n",
       "lstat         -0.5248      0.051    -10.347      0.000      -0.624      -0.425\n",
       "==============================================================================\n",
       "Omnibus:                      178.041   Durbin-Watson:                   1.078\n",
       "Prob(Omnibus):                  0.000   Jarque-Bera (JB):              783.126\n",
       "Skew:                           1.521   Prob(JB):                    8.84e-171\n",
       "Kurtosis:                       8.281   Cond. No.                     1.51e+04\n",
       "==============================================================================\n",
       "\n",
       "Notes:\n",
       "[1] Standard Errors assume that the covariance matrix of the errors is correctly specified.\n",
       "[2] The condition number is large, 1.51e+04. This might indicate that there are\n",
       "strong multicollinearity or other numerical problems.\n",
       "\"\"\""
      ]
     },
     "execution_count": 13,
     "metadata": {},
     "output_type": "execute_result"
    }
   ],
   "source": [
    "import statsmodels.formula.api as smf\n",
    "formula = \"medv~\" + \"+\".join(boston_df.iloc[:,:-1].columns)\n",
    "model_boston = smf.ols(formula=formula, data=boston_df).fit()\n",
    "model_boston.summary()"
   ]
  },
  {
   "cell_type": "code",
   "execution_count": 14,
   "metadata": {},
   "outputs": [
    {
     "data": {
      "text/html": [
       "<div>\n",
       "<style scoped>\n",
       "    .dataframe tbody tr th:only-of-type {\n",
       "        vertical-align: middle;\n",
       "    }\n",
       "\n",
       "    .dataframe tbody tr th {\n",
       "        vertical-align: top;\n",
       "    }\n",
       "\n",
       "    .dataframe thead th {\n",
       "        text-align: right;\n",
       "    }\n",
       "</style>\n",
       "<table border=\"1\" class=\"dataframe\">\n",
       "  <thead>\n",
       "    <tr style=\"text-align: right;\">\n",
       "      <th></th>\n",
       "      <th>0</th>\n",
       "      <th>1</th>\n",
       "    </tr>\n",
       "  </thead>\n",
       "  <tbody>\n",
       "    <tr>\n",
       "      <th>Intercept</th>\n",
       "      <td>26.432226</td>\n",
       "      <td>46.486751</td>\n",
       "    </tr>\n",
       "    <tr>\n",
       "      <th>crim</th>\n",
       "      <td>-0.172584</td>\n",
       "      <td>-0.043438</td>\n",
       "    </tr>\n",
       "    <tr>\n",
       "      <th>zn</th>\n",
       "      <td>0.019449</td>\n",
       "      <td>0.073392</td>\n",
       "    </tr>\n",
       "    <tr>\n",
       "      <th>indus</th>\n",
       "      <td>-0.100268</td>\n",
       "      <td>0.141385</td>\n",
       "    </tr>\n",
       "    <tr>\n",
       "      <th>chas</th>\n",
       "      <td>0.993904</td>\n",
       "      <td>4.379563</td>\n",
       "    </tr>\n",
       "    <tr>\n",
       "      <th>nox</th>\n",
       "      <td>-25.271634</td>\n",
       "      <td>-10.261589</td>\n",
       "    </tr>\n",
       "    <tr>\n",
       "      <th>rm</th>\n",
       "      <td>2.988727</td>\n",
       "      <td>4.631004</td>\n",
       "    </tr>\n",
       "    <tr>\n",
       "      <th>age</th>\n",
       "      <td>-0.025262</td>\n",
       "      <td>0.026647</td>\n",
       "    </tr>\n",
       "    <tr>\n",
       "      <th>dis</th>\n",
       "      <td>-1.867455</td>\n",
       "      <td>-1.083679</td>\n",
       "    </tr>\n",
       "    <tr>\n",
       "      <th>rad</th>\n",
       "      <td>0.175692</td>\n",
       "      <td>0.436407</td>\n",
       "    </tr>\n",
       "    <tr>\n",
       "      <th>tax</th>\n",
       "      <td>-0.019723</td>\n",
       "      <td>-0.004946</td>\n",
       "    </tr>\n",
       "    <tr>\n",
       "      <th>ptratio</th>\n",
       "      <td>-1.209795</td>\n",
       "      <td>-0.695699</td>\n",
       "    </tr>\n",
       "    <tr>\n",
       "      <th>black</th>\n",
       "      <td>0.004034</td>\n",
       "      <td>0.014589</td>\n",
       "    </tr>\n",
       "    <tr>\n",
       "      <th>lstat</th>\n",
       "      <td>-0.624404</td>\n",
       "      <td>-0.425113</td>\n",
       "    </tr>\n",
       "  </tbody>\n",
       "</table>\n",
       "</div>"
      ],
      "text/plain": [
       "                   0          1\n",
       "Intercept  26.432226  46.486751\n",
       "crim       -0.172584  -0.043438\n",
       "zn          0.019449   0.073392\n",
       "indus      -0.100268   0.141385\n",
       "chas        0.993904   4.379563\n",
       "nox       -25.271634 -10.261589\n",
       "rm          2.988727   4.631004\n",
       "age        -0.025262   0.026647\n",
       "dis        -1.867455  -1.083679\n",
       "rad         0.175692   0.436407\n",
       "tax        -0.019723  -0.004946\n",
       "ptratio    -1.209795  -0.695699\n",
       "black       0.004034   0.014589\n",
       "lstat      -0.624404  -0.425113"
      ]
     },
     "execution_count": 14,
     "metadata": {},
     "output_type": "execute_result"
    }
   ],
   "source": [
    "model_boston.conf_int()"
   ]
  },
  {
   "cell_type": "code",
   "execution_count": 15,
   "metadata": {},
   "outputs": [
    {
     "data": {
      "image/png": "[encoded data removed]",
      "text/plain": [
       "<Figure size 1000x800 with 2 Axes>"
      ]
     },
     "metadata": {},
     "output_type": "display_data"
    }
   ],
   "source": [
    "import seaborn as sns\n",
    "import matplotlib.pyplot as plt\n",
    "plt.figure(figsize=(10,8))\n",
    "sns.heatmap(boston_df.corr(), vmin=-1, vmax=1, annot=True, cmap=\"cubehelix_r\")\n",
    "plt.show()"
   ]
  },
  {
   "cell_type": "code",
   "execution_count": 16,
   "metadata": {},
   "outputs": [
    {
     "data": {
      "text/html": [
       "<table class=\"simpletable\">\n",
       "<caption>OLS Regression Results</caption>\n",
       "<tr>\n",
       "  <th>Dep. Variable:</th>          <td>medv</td>       <th>  R-squared (uncentered):</th>      <td>   0.948</td>\n",
       "</tr>\n",
       "<tr>\n",
       "  <th>Model:</th>                   <td>OLS</td>       <th>  Adj. R-squared (uncentered):</th> <td>   0.948</td>\n",
       "</tr>\n",
       "<tr>\n",
       "  <th>Method:</th>             <td>Least Squares</td>  <th>  F-statistic:       </th>          <td>   4637.</td>\n",
       "</tr>\n",
       "<tr>\n",
       "  <th>Date:</th>             <td>Fri, 31 May 2024</td> <th>  Prob (F-statistic):</th>           <td>  0.00</td> \n",
       "</tr>\n",
       "<tr>\n",
       "  <th>Time:</th>                 <td>16:23:17</td>     <th>  Log-Likelihood:    </th>          <td> -1582.9</td>\n",
       "</tr>\n",
       "<tr>\n",
       "  <th>No. Observations:</th>      <td>   506</td>      <th>  AIC:               </th>          <td>   3170.</td>\n",
       "</tr>\n",
       "<tr>\n",
       "  <th>Df Residuals:</th>          <td>   504</td>      <th>  BIC:               </th>          <td>   3178.</td>\n",
       "</tr>\n",
       "<tr>\n",
       "  <th>Df Model:</th>              <td>     2</td>      <th>                     </th>              <td> </td>   \n",
       "</tr>\n",
       "<tr>\n",
       "  <th>Covariance Type:</th>      <td>nonrobust</td>    <th>                     </th>              <td> </td>   \n",
       "</tr>\n",
       "</table>\n",
       "<table class=\"simpletable\">\n",
       "<tr>\n",
       "    <td></td>       <th>coef</th>     <th>std err</th>      <th>t</th>      <th>P>|t|</th>  <th>[0.025</th>    <th>0.975]</th>  \n",
       "</tr>\n",
       "<tr>\n",
       "  <th>rm</th>    <td>    4.9069</td> <td>    0.070</td> <td>   69.906</td> <td> 0.000</td> <td>    4.769</td> <td>    5.045</td>\n",
       "</tr>\n",
       "<tr>\n",
       "  <th>lstat</th> <td>   -0.6557</td> <td>    0.031</td> <td>  -21.458</td> <td> 0.000</td> <td>   -0.716</td> <td>   -0.596</td>\n",
       "</tr>\n",
       "</table>\n",
       "<table class=\"simpletable\">\n",
       "<tr>\n",
       "  <th>Omnibus:</th>       <td>145.153</td> <th>  Durbin-Watson:     </th> <td>   0.834</td>\n",
       "</tr>\n",
       "<tr>\n",
       "  <th>Prob(Omnibus):</th> <td> 0.000</td>  <th>  Jarque-Bera (JB):  </th> <td> 442.157</td>\n",
       "</tr>\n",
       "<tr>\n",
       "  <th>Skew:</th>          <td> 1.351</td>  <th>  Prob(JB):          </th> <td>9.70e-97</td>\n",
       "</tr>\n",
       "<tr>\n",
       "  <th>Kurtosis:</th>      <td> 6.698</td>  <th>  Cond. No.          </th> <td>    4.72</td>\n",
       "</tr>\n",
       "</table><br/><br/>Notes:<br/>[1] R² is computed without centering (uncentered) since the model does not contain a constant.<br/>[2] Standard Errors assume that the covariance matrix of the errors is correctly specified."
      ],
      "text/latex": [
       "\\begin{center}\n",
       "\\begin{tabular}{lclc}\n",
       "\\toprule\n",
       "\\textbf{Dep. Variable:}    &       medv       & \\textbf{  R-squared (uncentered):}      &     0.948   \\\\\n",
       "\\textbf{Model:}            &       OLS        & \\textbf{  Adj. R-squared (uncentered):} &     0.948   \\\\\n",
       "\\textbf{Method:}           &  Least Squares   & \\textbf{  F-statistic:       }          &     4637.   \\\\\n",
       "\\textbf{Date:}             & Fri, 31 May 2024 & \\textbf{  Prob (F-statistic):}          &     0.00    \\\\\n",
       "\\textbf{Time:}             &     16:23:17     & \\textbf{  Log-Likelihood:    }          &   -1582.9   \\\\\n",
       "\\textbf{No. Observations:} &         506      & \\textbf{  AIC:               }          &     3170.   \\\\\n",
       "\\textbf{Df Residuals:}     &         504      & \\textbf{  BIC:               }          &     3178.   \\\\\n",
       "\\textbf{Df Model:}         &           2      & \\textbf{                     }          &             \\\\\n",
       "\\textbf{Covariance Type:}  &    nonrobust     & \\textbf{                     }          &             \\\\\n",
       "\\bottomrule\n",
       "\\end{tabular}\n",
       "\\begin{tabular}{lcccccc}\n",
       "               & \\textbf{coef} & \\textbf{std err} & \\textbf{t} & \\textbf{P$> |$t$|$} & \\textbf{[0.025} & \\textbf{0.975]}  \\\\\n",
       "\\midrule\n",
       "\\textbf{rm}    &       4.9069  &        0.070     &    69.906  &         0.000        &        4.769    &        5.045     \\\\\n",
       "\\textbf{lstat} &      -0.6557  &        0.031     &   -21.458  &         0.000        &       -0.716    &       -0.596     \\\\\n",
       "\\bottomrule\n",
       "\\end{tabular}\n",
       "\\begin{tabular}{lclc}\n",
       "\\textbf{Omnibus:}       & 145.153 & \\textbf{  Durbin-Watson:     } &    0.834  \\\\\n",
       "\\textbf{Prob(Omnibus):} &   0.000 & \\textbf{  Jarque-Bera (JB):  } &  442.157  \\\\\n",
       "\\textbf{Skew:}          &   1.351 & \\textbf{  Prob(JB):          } & 9.70e-97  \\\\\n",
       "\\textbf{Kurtosis:}      &   6.698 & \\textbf{  Cond. No.          } &     4.72  \\\\\n",
       "\\bottomrule\n",
       "\\end{tabular}\n",
       "%\\caption{OLS Regression Results}\n",
       "\\end{center}\n",
       "\n",
       "Notes: \\newline\n",
       " [1] R² is computed without centering (uncentered) since the model does not contain a constant. \\newline\n",
       " [2] Standard Errors assume that the covariance matrix of the errors is correctly specified."
      ],
      "text/plain": [
       "<class 'statsmodels.iolib.summary.Summary'>\n",
       "\"\"\"\n",
       "                                 OLS Regression Results                                \n",
       "=======================================================================================\n",
       "Dep. Variable:                   medv   R-squared (uncentered):                   0.948\n",
       "Model:                            OLS   Adj. R-squared (uncentered):              0.948\n",
       "Method:                 Least Squares   F-statistic:                              4637.\n",
       "Date:                Fri, 31 May 2024   Prob (F-statistic):                        0.00\n",
       "Time:                        16:23:17   Log-Likelihood:                         -1582.9\n",
       "No. Observations:                 506   AIC:                                      3170.\n",
       "Df Residuals:                     504   BIC:                                      3178.\n",
       "Df Model:                           2                                                  \n",
       "Covariance Type:            nonrobust                                                  \n",
       "==============================================================================\n",
       "                 coef    std err          t      P>|t|      [0.025      0.975]\n",
       "------------------------------------------------------------------------------\n",
       "rm             4.9069      0.070     69.906      0.000       4.769       5.045\n",
       "lstat         -0.6557      0.031    -21.458      0.000      -0.716      -0.596\n",
       "==============================================================================\n",
       "Omnibus:                      145.153   Durbin-Watson:                   0.834\n",
       "Prob(Omnibus):                  0.000   Jarque-Bera (JB):              442.157\n",
       "Skew:                           1.351   Prob(JB):                     9.70e-97\n",
       "Kurtosis:                       6.698   Cond. No.                         4.72\n",
       "==============================================================================\n",
       "\n",
       "Notes:\n",
       "[1] R² is computed without centering (uncentered) since the model does not contain a constant.\n",
       "[2] Standard Errors assume that the covariance matrix of the errors is correctly specified.\n",
       "\"\"\""
      ]
     },
     "execution_count": 16,
     "metadata": {},
     "output_type": "execute_result"
    }
   ],
   "source": [
    "import statsmodels.formula.api as smf\n",
    "formula = \"medv ~ rm + lstat -1\"\n",
    "model_boston = smf.ols(formula=formula, data=boston_df).fit()\n",
    "model_boston.summary()"
   ]
  },
  {
   "cell_type": "code",
   "execution_count": 17,
   "metadata": {},
   "outputs": [],
   "source": [
    "# x_train[:,[5, 12]]"
   ]
  },
  {
   "cell_type": "code",
   "execution_count": 18,
   "metadata": {},
   "outputs": [
    {
     "data": {
      "text/html": [
       "<style>#sk-container-id-2 {color: black;background-color: white;}#sk-container-id-2 pre{padding: 0;}#sk-container-id-2 div.sk-toggleable {background-color: white;}#sk-container-id-2 label.sk-toggleable__label {cursor: pointer;display: block;width: 100%;margin-bottom: 0;padding: 0.3em;box-sizing: border-box;text-align: center;}#sk-container-id-2 label.sk-toggleable__label-arrow:before {content: \"▸\";float: left;margin-right: 0.25em;color: #696969;}#sk-container-id-2 label.sk-toggleable__label-arrow:hover:before {color: black;}#sk-container-id-2 div.sk-estimator:hover label.sk-toggleable__label-arrow:before {color: black;}#sk-container-id-2 div.sk-toggleable__content {max-height: 0;max-width: 0;overflow: hidden;text-align: left;background-color: #f0f8ff;}#sk-container-id-2 div.sk-toggleable__content pre {margin: 0.2em;color: black;border-radius: 0.25em;background-color: #f0f8ff;}#sk-container-id-2 input.sk-toggleable__control:checked~div.sk-toggleable__content {max-height: 200px;max-width: 100%;overflow: auto;}#sk-container-id-2 input.sk-toggleable__control:checked~label.sk-toggleable__label-arrow:before {content: \"▾\";}#sk-container-id-2 div.sk-estimator input.sk-toggleable__control:checked~label.sk-toggleable__label {background-color: #d4ebff;}#sk-container-id-2 div.sk-label input.sk-toggleable__control:checked~label.sk-toggleable__label {background-color: #d4ebff;}#sk-container-id-2 input.sk-hidden--visually {border: 0;clip: rect(1px 1px 1px 1px);clip: rect(1px, 1px, 1px, 1px);height: 1px;margin: -1px;overflow: hidden;padding: 0;position: absolute;width: 1px;}#sk-container-id-2 div.sk-estimator {font-family: monospace;background-color: #f0f8ff;border: 1px dotted black;border-radius: 0.25em;box-sizing: border-box;margin-bottom: 0.5em;}#sk-container-id-2 div.sk-estimator:hover {background-color: #d4ebff;}#sk-container-id-2 div.sk-parallel-item::after {content: \"\";width: 100%;border-bottom: 1px solid gray;flex-grow: 1;}#sk-container-id-2 div.sk-label:hover label.sk-toggleable__label {background-color: #d4ebff;}#sk-container-id-2 div.sk-serial::before {content: \"\";position: absolute;border-left: 1px solid gray;box-sizing: border-box;top: 0;bottom: 0;left: 50%;z-index: 0;}#sk-container-id-2 div.sk-serial {display: flex;flex-direction: column;align-items: center;background-color: white;padding-right: 0.2em;padding-left: 0.2em;position: relative;}#sk-container-id-2 div.sk-item {position: relative;z-index: 1;}#sk-container-id-2 div.sk-parallel {display: flex;align-items: stretch;justify-content: center;background-color: white;position: relative;}#sk-container-id-2 div.sk-item::before, #sk-container-id-2 div.sk-parallel-item::before {content: \"\";position: absolute;border-left: 1px solid gray;box-sizing: border-box;top: 0;bottom: 0;left: 50%;z-index: -1;}#sk-container-id-2 div.sk-parallel-item {display: flex;flex-direction: column;z-index: 1;position: relative;background-color: white;}#sk-container-id-2 div.sk-parallel-item:first-child::after {align-self: flex-end;width: 50%;}#sk-container-id-2 div.sk-parallel-item:last-child::after {align-self: flex-start;width: 50%;}#sk-container-id-2 div.sk-parallel-item:only-child::after {width: 0;}#sk-container-id-2 div.sk-dashed-wrapped {border: 1px dashed gray;margin: 0 0.4em 0.5em 0.4em;box-sizing: border-box;padding-bottom: 0.4em;background-color: white;}#sk-container-id-2 div.sk-label label {font-family: monospace;font-weight: bold;display: inline-block;line-height: 1.2em;}#sk-container-id-2 div.sk-label-container {text-align: center;}#sk-container-id-2 div.sk-container {/* jupyter's `normalize.less` sets `[hidden] { display: none; }` but bootstrap.min.css set `[hidden] { display: none !important; }` so we also need the `!important` here to be able to override the default hidden behavior on the sphinx rendered scikit-learn.org. See: https://github.com/scikit-learn/scikit-learn/issues/21755 */display: inline-block !important;position: relative;}#sk-container-id-2 div.sk-text-repr-fallback {display: none;}</style><div id=\"sk-container-id-2\" class=\"sk-top-container\"><div class=\"sk-text-repr-fallback\"><pre>LinearRegression()</pre><b>In a Jupyter environment, please rerun this cell to show the HTML representation or trust the notebook. <br />On GitHub, the HTML representation is unable to render, please try loading this page with nbviewer.org.</b></div><div class=\"sk-container\" hidden><div class=\"sk-item\"><div class=\"sk-estimator sk-toggleable\"><input class=\"sk-toggleable__control sk-hidden--visually\" id=\"sk-estimator-id-2\" type=\"checkbox\" checked><label for=\"sk-estimator-id-2\" class=\"sk-toggleable__label sk-toggleable__label-arrow\">LinearRegression</label><div class=\"sk-toggleable__content\"><pre>LinearRegression()</pre></div></div></div></div></div>"
      ],
      "text/plain": [
       "LinearRegression()"
      ]
     },
     "execution_count": 18,
     "metadata": {},
     "output_type": "execute_result"
    }
   ],
   "source": [
    "from sklearn.linear_model import LinearRegression\n",
    "model_boston = LinearRegression()\n",
    "model_boston.fit(x_train.iloc[:,[5, 12]], y_train)"
   ]
  },
  {
   "cell_type": "code",
   "execution_count": 19,
   "metadata": {},
   "outputs": [
    {
     "data": {
      "text/plain": [
       "0.6536821637458842"
      ]
     },
     "execution_count": 19,
     "metadata": {},
     "output_type": "execute_result"
    }
   ],
   "source": [
    "model_boston.score(x_train.iloc[:,[5, 12]], y_train)"
   ]
  },
  {
   "cell_type": "code",
   "execution_count": 20,
   "metadata": {},
   "outputs": [
    {
     "data": {
      "text/plain": [
       "0.596153752595066"
      ]
     },
     "execution_count": 20,
     "metadata": {},
     "output_type": "execute_result"
    }
   ],
   "source": [
    "model_boston.score(x_test.iloc[:,[5, 12]], y_test)"
   ]
  },
  {
   "cell_type": "code",
   "execution_count": 21,
   "metadata": {},
   "outputs": [],
   "source": [
    "import statsmodels.formula.api as smf\n",
    "formula = \"medv ~ rad + zn + rm + chas + age -1\"\n",
    "model_boston2 = smf.ols(formula=formula, data=boston_df).fit()"
   ]
  },
  {
   "cell_type": "code",
   "execution_count": 22,
   "metadata": {},
   "outputs": [],
   "source": [
    "y_pred = model_boston2.predict(boston_df)"
   ]
  },
  {
   "cell_type": "code",
   "execution_count": 23,
   "metadata": {},
   "outputs": [],
   "source": [
    "import matplotlib.pyplot as plt\n",
    "%matplotlib inline"
   ]
  },
  {
   "cell_type": "code",
   "execution_count": 24,
   "metadata": {},
   "outputs": [
    {
     "data": {
      "image/png": "[encoded data removed]",
      "text/plain": [
       "<Figure size 640x480 with 1 Axes>"
      ]
     },
     "metadata": {},
     "output_type": "display_data"
    }
   ],
   "source": [
    "plt.scatter(boston_df.iloc[:,-1], y_pred)\n",
    "plt.xlabel(\"Target y\")\n",
    "plt.ylabel(\"Predicted y\")\n",
    "plt.title(\"Prediction vs. Actual\")\n",
    "plt.show()"
   ]
  },
  {
   "cell_type": "code",
   "execution_count": 25,
   "metadata": {},
   "outputs": [
    {
     "data": {
      "image/png": "[encoded data removed]",
      "text/plain": [
       "<Figure size 640x480 with 1 Axes>"
      ]
     },
     "metadata": {},
     "output_type": "display_data"
    }
   ],
   "source": [
    "from scipy import stats\n",
    "res = stats.probplot(y_pred, plot=plt)\n",
    "plt.title(\"Probability plot\")\n",
    "plt.show()"
   ]
  },
  {
   "cell_type": "code",
   "execution_count": 26,
   "metadata": {},
   "outputs": [
    {
     "data": {
      "text/plain": [
       "array([0.00451776, 0.0056484 , 0.0071177 , 0.00849182, 0.00749566,\n",
       "       0.00492324, 0.00257611, 0.00743155, 0.00978876, 0.00520168,\n",
       "       0.00665308, 0.0046034 , 0.00344662, 0.00350544, 0.00503083,\n",
       "       0.00348841, 0.00805384, 0.00464245, 0.00478533, 0.00339064,\n",
       "       0.00834257, 0.0058364 , 0.00623029, 0.00851624, 0.00688384,\n",
       "       0.00536983, 0.00614372, 0.00572945, 0.00660802, 0.00552768,\n",
       "       0.0070933 , 0.00817743, 0.0046783 , 0.00733028, 0.00738016,\n",
       "       0.00317729, 0.003061  , 0.00504048, 0.00794906, 0.01686875,\n",
       "       0.01725022, 0.02286547, 0.01720944, 0.01750687, 0.00625739,\n",
       "       0.00613695, 0.00660426, 0.00575776, 0.00848394, 0.00337546,\n",
       "       0.00269591, 0.00309051, 0.00792315, 0.00609131, 0.02095916,\n",
       "       0.02487653, 0.02391795, 0.03478123, 0.00530086, 0.00271819,\n",
       "       0.00331751, 0.00850954, 0.00310248, 0.00424104, 0.00415371,\n",
       "       0.01966903, 0.02126082, 0.00689605, 0.00311742, 0.00440053,\n",
       "       0.01888701, 0.01182293, 0.01622191, 0.01801147, 0.01850682,\n",
       "       0.0057765 , 0.0037391 , 0.00518584, 0.00435549, 0.00606671,\n",
       "       0.00547518, 0.00420887, 0.0046141 , 0.00304236, 0.00596832,\n",
       "       0.00565469, 0.00526076, 0.00435423, 0.00687076, 0.00664536,\n",
       "       0.00505837, 0.00525422, 0.00344874, 0.00487507, 0.00613293,\n",
       "       0.00586063, 0.00475006, 0.00850888, 0.01496859, 0.00767103,\n",
       "       0.00444295, 0.0043809 , 0.00469073, 0.00494218, 0.00535309,\n",
       "       0.00697173, 0.00589914, 0.00462596, 0.00653482, 0.00553864,\n",
       "       0.00419027, 0.00412175, 0.00553573, 0.00590154, 0.00408147,\n",
       "       0.00466646, 0.00323553, 0.00386709, 0.00300747, 0.00264958,\n",
       "       0.0044426 , 0.00616412, 0.00794089, 0.00908488, 0.00873704,\n",
       "       0.00695043, 0.00899811, 0.0075961 , 0.00754855, 0.00733156,\n",
       "       0.00755234, 0.00737592, 0.00738792, 0.00729238, 0.00815155,\n",
       "       0.00748257, 0.00673338, 0.00744375, 0.00796553, 0.00756768,\n",
       "       0.00659263, 0.00999524, 0.03348932, 0.00843462, 0.00889378,\n",
       "       0.00746734, 0.00815854, 0.00818219, 0.007152  , 0.0068378 ,\n",
       "       0.00683245, 0.00855261, 0.03155253, 0.00761772, 0.03134154,\n",
       "       0.02968895, 0.00706836, 0.00645138, 0.0075407 , 0.00712063,\n",
       "       0.03068422, 0.00591178, 0.03087561, 0.03123792, 0.00586401,\n",
       "       0.00593386, 0.00679923, 0.00386444, 0.00642175, 0.00619894,\n",
       "       0.00645206, 0.00708517, 0.00541532, 0.00454977, 0.00311466,\n",
       "       0.009567  , 0.00462513, 0.00373451, 0.00448182, 0.0063973 ,\n",
       "       0.00708387, 0.0041805 , 0.00699306, 0.00748406, 0.00681881,\n",
       "       0.00421907, 0.0102115 , 0.00633975, 0.00698775, 0.00687602,\n",
       "       0.00889932, 0.00705663, 0.00851804, 0.01274752, 0.011325  ,\n",
       "       0.01901695, 0.01935748, 0.01973839, 0.01970859, 0.0277738 ,\n",
       "       0.02767076, 0.02327172, 0.0207947 , 0.02762391, 0.02735186,\n",
       "       0.00988674, 0.00494342, 0.00364199, 0.03014887, 0.03416348,\n",
       "       0.0313593 , 0.03145883, 0.03029036, 0.00907137, 0.01190548,\n",
       "       0.00603095, 0.03005448, 0.00475761, 0.03118412, 0.0305621 ,\n",
       "       0.0291606 , 0.02960516, 0.02924286, 0.00339228, 0.00646008,\n",
       "       0.00726673, 0.00538758, 0.00401677, 0.02307177, 0.01417599,\n",
       "       0.00258702, 0.00454185, 0.00731032, 0.00746888, 0.0300135 ,\n",
       "       0.00299837, 0.02908582, 0.00479636, 0.00803623, 0.00407195,\n",
       "       0.00370866, 0.00412521, 0.00334319, 0.01095554, 0.00463407,\n",
       "       0.0035429 , 0.0040498 , 0.0043026 , 0.00296178, 0.01028262,\n",
       "       0.01087542, 0.0121696 , 0.0155321 , 0.02231975, 0.02084598,\n",
       "       0.01982513, 0.02496728, 0.00574629, 0.00784672, 0.0086224 ,\n",
       "       0.00453706, 0.00553393, 0.00586227, 0.0065867 , 0.00610198,\n",
       "       0.0027691 , 0.00498496, 0.00531438, 0.0047883 , 0.02975959,\n",
       "       0.00288331, 0.00829923, 0.00338469, 0.03211336, 0.03405117,\n",
       "       0.0054755 , 0.03268791, 0.03509503, 0.00576422, 0.00641786,\n",
       "       0.00450388, 0.00585612, 0.03220932, 0.05264896, 0.02456601,\n",
       "       0.00922448, 0.02055536, 0.00839833, 0.00849796, 0.00941219,\n",
       "       0.01940432, 0.01921837, 0.01947544, 0.01233093, 0.00549309,\n",
       "       0.01077433, 0.00577884, 0.00334585, 0.01500581, 0.01663162,\n",
       "       0.01564081, 0.00461063, 0.00831086, 0.01006953, 0.0055636 ,\n",
       "       0.003897  , 0.00463552, 0.00466894, 0.00500922, 0.00408207,\n",
       "       0.00331506, 0.00438695, 0.00603682, 0.00484098, 0.00548851,\n",
       "       0.00410696, 0.00484698, 0.00356844, 0.00412502, 0.00390663,\n",
       "       0.0050422 , 0.00465418, 0.00431831, 0.00333849, 0.00722329,\n",
       "       0.01553858, 0.00978286, 0.00536791, 0.00873833, 0.01385194,\n",
       "       0.00813987, 0.00463245, 0.00563987, 0.00731584, 0.00719998,\n",
       "       0.00712694, 0.00434215, 0.00320406, 0.00655859, 0.00479552,\n",
       "       0.00338565, 0.00578615, 0.00598293, 0.01015147, 0.00960105,\n",
       "       0.00482327, 0.00417283, 0.02268214, 0.01970889, 0.00659162,\n",
       "       0.00578159, 0.01067954, 0.01099041, 0.0266006 , 0.02051903,\n",
       "       0.02001041, 0.0343249 , 0.03434325, 0.03507428, 0.00782998,\n",
       "       0.00750516, 0.00745714, 0.008596  , 0.03493687, 0.0380888 ,\n",
       "       0.01160859, 0.00880647, 0.01314906, 0.00988037, 0.03385779,\n",
       "       0.03362504, 0.00774532, 0.03484084, 0.01003419, 0.01221655,\n",
       "       0.00727429, 0.0073424 , 0.00729043, 0.00744217, 0.00773794,\n",
       "       0.00743336, 0.00742172, 0.00870782, 0.00873633, 0.00999277,\n",
       "       0.00895842, 0.0106872 , 0.0085833 , 0.01009791, 0.00884274,\n",
       "       0.00813641, 0.00774481, 0.00929873, 0.00748602, 0.00778206,\n",
       "       0.00746093, 0.0074234 , 0.00825149, 0.00885865, 0.00802131,\n",
       "       0.00801506, 0.00761954, 0.00756516, 0.00859766, 0.00782433,\n",
       "       0.00845848, 0.01221655, 0.00858285, 0.00835342, 0.0072859 ,\n",
       "       0.00834158, 0.00738147, 0.01075242, 0.00945999, 0.01105624,\n",
       "       0.00753985, 0.00743507, 0.00814149, 0.00805449, 0.00895069,\n",
       "       0.00755917, 0.00769572, 0.00776416, 0.00762208, 0.00858467,\n",
       "       0.00780901, 0.01061644, 0.00807975, 0.00813335, 0.00742945,\n",
       "       0.007587  , 0.00731383, 0.00872273, 0.00751183, 0.00752218,\n",
       "       0.00732837, 0.00737882, 0.00781515, 0.00759935, 0.00802569,\n",
       "       0.00774829, 0.00745229, 0.00774215, 0.00749901, 0.00792796,\n",
       "       0.0073812 , 0.0074717 , 0.00754188, 0.00769789, 0.00748092,\n",
       "       0.00735854, 0.00733826, 0.00743788, 0.00724932, 0.00732077,\n",
       "       0.00760194, 0.00758225, 0.00786255, 0.00771686, 0.00765194,\n",
       "       0.00745536, 0.00748975, 0.00776965, 0.00743797, 0.01003432,\n",
       "       0.01336905, 0.00765355, 0.00766481, 0.00877254, 0.01106986,\n",
       "       0.00767466, 0.00746716, 0.00870716, 0.01099978, 0.00841571,\n",
       "       0.00765081, 0.00737079, 0.00881449, 0.00759872, 0.00751317,\n",
       "       0.01022764, 0.0091088 , 0.00921479, 0.0159328 , 0.01569445,\n",
       "       0.01365623, 0.00794306, 0.01229968, 0.00705267, 0.00865783,\n",
       "       0.00917292, 0.00796914, 0.00488748, 0.00302126, 0.00503656,\n",
       "       0.00725213, 0.00279972, 0.00283323, 0.00300735, 0.00289114,\n",
       "       0.00356701, 0.00592644, 0.00584425, 0.00819785, 0.00785763,\n",
       "       0.00633075])"
      ]
     },
     "execution_count": 26,
     "metadata": {},
     "output_type": "execute_result"
    }
   ],
   "source": [
    "influence = model_boston2.get_influence()\n",
    "leverage = influence.hat_matrix_diag\n",
    "leverage"
   ]
  },
  {
   "cell_type": "code",
   "execution_count": 27,
   "metadata": {},
   "outputs": [
    {
     "data": {
      "text/html": [
       "<div>\n",
       "<style scoped>\n",
       "    .dataframe tbody tr th:only-of-type {\n",
       "        vertical-align: middle;\n",
       "    }\n",
       "\n",
       "    .dataframe tbody tr th {\n",
       "        vertical-align: top;\n",
       "    }\n",
       "\n",
       "    .dataframe thead th {\n",
       "        text-align: right;\n",
       "    }\n",
       "</style>\n",
       "<table border=\"1\" class=\"dataframe\">\n",
       "  <thead>\n",
       "    <tr style=\"text-align: right;\">\n",
       "      <th></th>\n",
       "      <th>dfb_rad</th>\n",
       "      <th>dfb_zn</th>\n",
       "      <th>dfb_rm</th>\n",
       "      <th>dfb_chas</th>\n",
       "      <th>dfb_age</th>\n",
       "      <th>cooks_d</th>\n",
       "      <th>standard_resid</th>\n",
       "      <th>hat_diag</th>\n",
       "      <th>dffits_internal</th>\n",
       "      <th>student_resid</th>\n",
       "      <th>dffits</th>\n",
       "    </tr>\n",
       "  </thead>\n",
       "  <tbody>\n",
       "    <tr>\n",
       "      <th>0</th>\n",
       "      <td>0.014158</td>\n",
       "      <td>-0.001691</td>\n",
       "      <td>-0.004468</td>\n",
       "      <td>0.004550</td>\n",
       "      <td>-0.005715</td>\n",
       "      <td>0.000086</td>\n",
       "      <td>-0.307386</td>\n",
       "      <td>0.004518</td>\n",
       "      <td>-0.020708</td>\n",
       "      <td>-0.307108</td>\n",
       "      <td>-0.020689</td>\n",
       "    </tr>\n",
       "    <tr>\n",
       "      <th>1</th>\n",
       "      <td>0.017086</td>\n",
       "      <td>0.006812</td>\n",
       "      <td>-0.005552</td>\n",
       "      <td>0.005430</td>\n",
       "      <td>-0.007745</td>\n",
       "      <td>0.000116</td>\n",
       "      <td>-0.320005</td>\n",
       "      <td>0.005648</td>\n",
       "      <td>-0.024118</td>\n",
       "      <td>-0.319718</td>\n",
       "      <td>-0.024097</td>\n",
       "    </tr>\n",
       "    <tr>\n",
       "      <th>2</th>\n",
       "      <td>-0.037099</td>\n",
       "      <td>-0.048103</td>\n",
       "      <td>0.060999</td>\n",
       "      <td>-0.014854</td>\n",
       "      <td>-0.024080</td>\n",
       "      <td>0.001287</td>\n",
       "      <td>0.947338</td>\n",
       "      <td>0.007118</td>\n",
       "      <td>0.080210</td>\n",
       "      <td>0.947241</td>\n",
       "      <td>0.080201</td>\n",
       "    </tr>\n",
       "    <tr>\n",
       "      <th>3</th>\n",
       "      <td>-0.015222</td>\n",
       "      <td>-0.045586</td>\n",
       "      <td>0.062027</td>\n",
       "      <td>-0.009620</td>\n",
       "      <td>-0.039300</td>\n",
       "      <td>0.000904</td>\n",
       "      <td>0.726654</td>\n",
       "      <td>0.008492</td>\n",
       "      <td>0.067248</td>\n",
       "      <td>0.726311</td>\n",
       "      <td>0.067216</td>\n",
       "    </tr>\n",
       "    <tr>\n",
       "      <th>4</th>\n",
       "      <td>-0.032230</td>\n",
       "      <td>-0.065823</td>\n",
       "      <td>0.086878</td>\n",
       "      <td>-0.016786</td>\n",
       "      <td>-0.047057</td>\n",
       "      <td>0.002031</td>\n",
       "      <td>1.159507</td>\n",
       "      <td>0.007496</td>\n",
       "      <td>0.100766</td>\n",
       "      <td>1.159907</td>\n",
       "      <td>0.100800</td>\n",
       "    </tr>\n",
       "  </tbody>\n",
       "</table>\n",
       "</div>"
      ],
      "text/plain": [
       "    dfb_rad    dfb_zn    dfb_rm  dfb_chas   dfb_age   cooks_d  standard_resid  \\\n",
       "0  0.014158 -0.001691 -0.004468  0.004550 -0.005715  0.000086       -0.307386   \n",
       "1  0.017086  0.006812 -0.005552  0.005430 -0.007745  0.000116       -0.320005   \n",
       "2 -0.037099 -0.048103  0.060999 -0.014854 -0.024080  0.001287        0.947338   \n",
       "3 -0.015222 -0.045586  0.062027 -0.009620 -0.039300  0.000904        0.726654   \n",
       "4 -0.032230 -0.065823  0.086878 -0.016786 -0.047057  0.002031        1.159507   \n",
       "\n",
       "   hat_diag  dffits_internal  student_resid    dffits  \n",
       "0  0.004518        -0.020708      -0.307108 -0.020689  \n",
       "1  0.005648        -0.024118      -0.319718 -0.024097  \n",
       "2  0.007118         0.080210       0.947241  0.080201  \n",
       "3  0.008492         0.067248       0.726311  0.067216  \n",
       "4  0.007496         0.100766       1.159907  0.100800  "
      ]
     },
     "execution_count": 27,
     "metadata": {},
     "output_type": "execute_result"
    }
   ],
   "source": [
    "inf_df = influence.summary_frame()\n",
    "inf_df.head()"
   ]
  },
  {
   "cell_type": "code",
   "execution_count": 28,
   "metadata": {},
   "outputs": [
    {
     "data": {
      "text/html": [
       "<div>\n",
       "<style scoped>\n",
       "    .dataframe tbody tr th:only-of-type {\n",
       "        vertical-align: middle;\n",
       "    }\n",
       "\n",
       "    .dataframe tbody tr th {\n",
       "        vertical-align: top;\n",
       "    }\n",
       "\n",
       "    .dataframe thead th {\n",
       "        text-align: right;\n",
       "    }\n",
       "</style>\n",
       "<table border=\"1\" class=\"dataframe\">\n",
       "  <thead>\n",
       "    <tr style=\"text-align: right;\">\n",
       "      <th></th>\n",
       "      <th>dfb_rad</th>\n",
       "      <th>dfb_zn</th>\n",
       "      <th>dfb_rm</th>\n",
       "      <th>dfb_chas</th>\n",
       "      <th>dfb_age</th>\n",
       "      <th>cooks_d</th>\n",
       "      <th>standard_resid</th>\n",
       "      <th>hat_diag</th>\n",
       "      <th>dffits_internal</th>\n",
       "      <th>student_resid</th>\n",
       "      <th>dffits</th>\n",
       "    </tr>\n",
       "  </thead>\n",
       "  <tbody>\n",
       "    <tr>\n",
       "      <th>372</th>\n",
       "      <td>0.353664</td>\n",
       "      <td>0.035681</td>\n",
       "      <td>-0.109444</td>\n",
       "      <td>0.789462</td>\n",
       "      <td>-0.039810</td>\n",
       "      <td>0.152533</td>\n",
       "      <td>4.596439</td>\n",
       "      <td>0.034841</td>\n",
       "      <td>0.873306</td>\n",
       "      <td>4.691842</td>\n",
       "      <td>0.891432</td>\n",
       "    </tr>\n",
       "    <tr>\n",
       "      <th>369</th>\n",
       "      <td>0.287072</td>\n",
       "      <td>0.008617</td>\n",
       "      <td>-0.068426</td>\n",
       "      <td>0.688935</td>\n",
       "      <td>-0.042178</td>\n",
       "      <td>0.116556</td>\n",
       "      <td>4.077971</td>\n",
       "      <td>0.033858</td>\n",
       "      <td>0.763401</td>\n",
       "      <td>4.143244</td>\n",
       "      <td>0.775620</td>\n",
       "    </tr>\n",
       "    <tr>\n",
       "      <th>370</th>\n",
       "      <td>0.267040</td>\n",
       "      <td>-0.009594</td>\n",
       "      <td>-0.038558</td>\n",
       "      <td>0.644822</td>\n",
       "      <td>-0.059787</td>\n",
       "      <td>0.102414</td>\n",
       "      <td>3.836245</td>\n",
       "      <td>0.033625</td>\n",
       "      <td>0.715591</td>\n",
       "      <td>3.889974</td>\n",
       "      <td>0.725613</td>\n",
       "    </tr>\n",
       "    <tr>\n",
       "      <th>368</th>\n",
       "      <td>0.368857</td>\n",
       "      <td>0.181923</td>\n",
       "      <td>-0.336413</td>\n",
       "      <td>-0.073225</td>\n",
       "      <td>0.265855</td>\n",
       "      <td>0.077543</td>\n",
       "      <td>6.233254</td>\n",
       "      <td>0.009880</td>\n",
       "      <td>0.622670</td>\n",
       "      <td>6.483507</td>\n",
       "      <td>0.647668</td>\n",
       "    </tr>\n",
       "    <tr>\n",
       "      <th>371</th>\n",
       "      <td>0.308803</td>\n",
       "      <td>0.047200</td>\n",
       "      <td>-0.126110</td>\n",
       "      <td>-0.069676</td>\n",
       "      <td>0.090929</td>\n",
       "      <td>0.043906</td>\n",
       "      <td>5.303207</td>\n",
       "      <td>0.007745</td>\n",
       "      <td>0.468540</td>\n",
       "      <td>5.453181</td>\n",
       "      <td>0.481790</td>\n",
       "    </tr>\n",
       "    <tr>\n",
       "      <th>162</th>\n",
       "      <td>-0.112920</td>\n",
       "      <td>-0.050371</td>\n",
       "      <td>0.020949</td>\n",
       "      <td>0.413657</td>\n",
       "      <td>0.043494</td>\n",
       "      <td>0.042798</td>\n",
       "      <td>2.591657</td>\n",
       "      <td>0.030876</td>\n",
       "      <td>0.462589</td>\n",
       "      <td>2.606601</td>\n",
       "      <td>0.465257</td>\n",
       "    </tr>\n",
       "    <tr>\n",
       "      <th>364</th>\n",
       "      <td>-0.173363</td>\n",
       "      <td>0.096816</td>\n",
       "      <td>-0.120227</td>\n",
       "      <td>-0.356978</td>\n",
       "      <td>0.170693</td>\n",
       "      <td>0.036421</td>\n",
       "      <td>-2.144531</td>\n",
       "      <td>0.038089</td>\n",
       "      <td>-0.426740</td>\n",
       "      <td>-2.152292</td>\n",
       "      <td>-0.428284</td>\n",
       "    </tr>\n",
       "    <tr>\n",
       "      <th>365</th>\n",
       "      <td>0.243968</td>\n",
       "      <td>0.138552</td>\n",
       "      <td>-0.234513</td>\n",
       "      <td>-0.029450</td>\n",
       "      <td>0.163341</td>\n",
       "      <td>0.030395</td>\n",
       "      <td>3.597183</td>\n",
       "      <td>0.011609</td>\n",
       "      <td>0.389841</td>\n",
       "      <td>3.640918</td>\n",
       "      <td>0.394581</td>\n",
       "    </tr>\n",
       "    <tr>\n",
       "      <th>163</th>\n",
       "      <td>-0.084396</td>\n",
       "      <td>-0.069066</td>\n",
       "      <td>0.060495</td>\n",
       "      <td>0.335488</td>\n",
       "      <td>-0.006600</td>\n",
       "      <td>0.028666</td>\n",
       "      <td>2.108330</td>\n",
       "      <td>0.031238</td>\n",
       "      <td>0.378592</td>\n",
       "      <td>2.115631</td>\n",
       "      <td>0.379903</td>\n",
       "    </tr>\n",
       "    <tr>\n",
       "      <th>204</th>\n",
       "      <td>0.014677</td>\n",
       "      <td>0.301759</td>\n",
       "      <td>-0.047322</td>\n",
       "      <td>-0.016860</td>\n",
       "      <td>0.024658</td>\n",
       "      <td>0.027384</td>\n",
       "      <td>2.206558</td>\n",
       "      <td>0.027352</td>\n",
       "      <td>0.370025</td>\n",
       "      <td>2.215145</td>\n",
       "      <td>0.371465</td>\n",
       "    </tr>\n",
       "  </tbody>\n",
       "</table>\n",
       "</div>"
      ],
      "text/plain": [
       "      dfb_rad    dfb_zn    dfb_rm  dfb_chas   dfb_age   cooks_d  \\\n",
       "372  0.353664  0.035681 -0.109444  0.789462 -0.039810  0.152533   \n",
       "369  0.287072  0.008617 -0.068426  0.688935 -0.042178  0.116556   \n",
       "370  0.267040 -0.009594 -0.038558  0.644822 -0.059787  0.102414   \n",
       "368  0.368857  0.181923 -0.336413 -0.073225  0.265855  0.077543   \n",
       "371  0.308803  0.047200 -0.126110 -0.069676  0.090929  0.043906   \n",
       "162 -0.112920 -0.050371  0.020949  0.413657  0.043494  0.042798   \n",
       "364 -0.173363  0.096816 -0.120227 -0.356978  0.170693  0.036421   \n",
       "365  0.243968  0.138552 -0.234513 -0.029450  0.163341  0.030395   \n",
       "163 -0.084396 -0.069066  0.060495  0.335488 -0.006600  0.028666   \n",
       "204  0.014677  0.301759 -0.047322 -0.016860  0.024658  0.027384   \n",
       "\n",
       "     standard_resid  hat_diag  dffits_internal  student_resid    dffits  \n",
       "372        4.596439  0.034841         0.873306       4.691842  0.891432  \n",
       "369        4.077971  0.033858         0.763401       4.143244  0.775620  \n",
       "370        3.836245  0.033625         0.715591       3.889974  0.725613  \n",
       "368        6.233254  0.009880         0.622670       6.483507  0.647668  \n",
       "371        5.303207  0.007745         0.468540       5.453181  0.481790  \n",
       "162        2.591657  0.030876         0.462589       2.606601  0.465257  \n",
       "364       -2.144531  0.038089        -0.426740      -2.152292 -0.428284  \n",
       "365        3.597183  0.011609         0.389841       3.640918  0.394581  \n",
       "163        2.108330  0.031238         0.378592       2.115631  0.379903  \n",
       "204        2.206558  0.027352         0.370025       2.215145  0.371465  "
      ]
     },
     "execution_count": 28,
     "metadata": {},
     "output_type": "execute_result"
    }
   ],
   "source": [
    "inf_df.sort_values(by=\"cooks_d\", ascending=False).head(10) # 쿡의 거리가 큰 상위 10개 데이터"
   ]
  },
  {
   "cell_type": "code",
   "execution_count": 29,
   "metadata": {},
   "outputs": [
    {
     "data": {
      "text/plain": [
       "Int64Index([372, 369, 370, 368, 371, 162, 364, 365, 163, 204], dtype='int64')"
      ]
     },
     "execution_count": 29,
     "metadata": {},
     "output_type": "execute_result"
    }
   ],
   "source": [
    "inf_df.sort_values(by=\"cooks_d\", ascending=False).head(10).index"
   ]
  },
  {
   "cell_type": "code",
   "execution_count": 30,
   "metadata": {},
   "outputs": [
    {
     "data": {
      "text/plain": [
       "0     -0.307386\n",
       "1     -0.320005\n",
       "2      0.947338\n",
       "3      0.726654\n",
       "4      1.159507\n",
       "         ...   \n",
       "501   -0.477882\n",
       "502   -0.315476\n",
       "503   -0.254717\n",
       "504   -0.439040\n",
       "505   -1.562010\n",
       "Name: standard_resid, Length: 506, dtype: float64"
      ]
     },
     "execution_count": 30,
     "metadata": {},
     "output_type": "execute_result"
    }
   ],
   "source": [
    "inf_df.standard_resid # 표준화된 잔차"
   ]
  },
  {
   "cell_type": "code",
   "execution_count": 31,
   "metadata": {},
   "outputs": [],
   "source": [
    "c, p = influence.cooks_distance  # Cook's distance, p-value"
   ]
  },
  {
   "cell_type": "code",
   "execution_count": 32,
   "metadata": {},
   "outputs": [
    {
     "data": {
      "text/plain": [
       "(array([8.57607218e-05, 1.16340057e-04, 1.28671302e-03, 9.04461053e-04,\n",
       "        2.03074066e-03, 3.20792224e-04, 5.67084951e-06, 1.53316849e-03,\n",
       "        8.06015504e-05, 7.99053018e-05, 1.50540054e-03, 9.30962551e-05,\n",
       "        7.73122191e-05, 6.42436150e-05, 2.27397248e-04, 9.13111243e-05,\n",
       "        1.20787174e-04, 2.72086373e-04, 7.62564440e-05, 1.01882798e-04,\n",
       "        6.84812609e-04, 1.16522693e-05, 9.92016113e-04, 7.33173025e-04,\n",
       "        5.60313227e-04, 6.32521615e-04, 2.43436937e-04, 9.70422809e-04,\n",
       "        5.04452776e-04, 2.04206419e-04, 1.24736062e-03, 1.17782861e-03,\n",
       "        1.30976990e-03, 1.07118836e-03, 1.66442093e-03, 1.07989001e-04,\n",
       "        4.01384621e-05, 1.26142781e-04, 1.04717429e-09, 5.79819826e-05,\n",
       "        5.12350479e-04, 2.35970568e-03, 6.15615562e-04, 1.06419494e-03,\n",
       "        4.10539701e-04, 5.36667856e-04, 5.32494389e-04, 5.64456398e-04,\n",
       "        3.53916958e-04, 3.70382167e-05, 2.45913006e-04, 1.24019449e-04,\n",
       "        4.94540442e-04, 2.19501208e-04, 3.46156347e-03, 8.23743286e-04,\n",
       "        1.54768694e-03, 8.01244364e-04, 1.11823800e-04, 1.46431277e-04,\n",
       "        5.45410210e-05, 4.99483794e-04, 3.80113930e-05, 9.71771446e-05,\n",
       "        4.20309984e-04, 2.71774613e-03, 3.75451062e-03, 3.93881294e-04,\n",
       "        4.52617121e-04, 2.82650481e-04, 2.12861804e-03, 1.04107012e-03,\n",
       "        1.55286810e-03, 2.04295240e-03, 1.47284608e-03, 3.77013362e-04,\n",
       "        1.30660754e-04, 3.10204348e-04, 1.79261349e-04, 3.57775501e-04,\n",
       "        1.13794030e-05, 3.59124578e-05, 8.60018251e-05, 6.33474702e-05,\n",
       "        9.76982591e-05, 4.11171972e-06, 7.35512913e-05, 5.20069752e-05,\n",
       "        1.68236027e-04, 1.60745979e-05, 1.03543289e-04, 9.98720509e-05,\n",
       "        1.38657918e-04, 6.34399507e-05, 1.70406670e-04, 1.30631190e-04,\n",
       "        7.25464862e-05, 2.09845785e-03, 7.87768537e-03, 4.82235447e-04,\n",
       "        2.16892904e-04, 3.16599266e-05, 3.33377148e-04, 6.81797296e-05,\n",
       "        1.72543700e-05, 1.30726631e-05, 2.72887971e-06, 1.11502258e-05,\n",
       "        1.28811986e-04, 7.96017361e-05, 9.62890810e-05, 2.65328338e-05,\n",
       "        5.79209409e-06, 4.25483862e-05, 1.88214506e-04, 4.53152600e-05,\n",
       "        1.34108379e-05, 3.65781829e-05, 8.14750092e-07, 2.18053861e-05,\n",
       "        1.17899351e-06, 2.81176258e-05, 7.69391651e-07, 2.26709248e-04,\n",
       "        3.86508588e-05, 1.09998742e-05, 3.51602588e-04, 1.84402900e-04,\n",
       "        5.05962957e-04, 5.67307664e-04, 2.52399116e-04, 1.01671884e-04,\n",
       "        8.58778455e-05, 1.61835050e-05, 3.46193932e-04, 3.72949779e-04,\n",
       "        1.89864502e-04, 8.21104098e-04, 1.29034709e-03, 2.58639624e-04,\n",
       "        1.54213194e-03, 1.30628683e-05, 1.35677862e-02, 6.18074750e-05,\n",
       "        2.80897988e-04, 1.39652843e-03, 1.57250846e-04, 9.98352683e-10,\n",
       "        1.18235951e-04, 1.99581060e-04, 6.47001226e-05, 4.05269221e-04,\n",
       "        5.92718687e-03, 6.66884009e-05, 1.30637390e-02, 2.04346251e-02,\n",
       "        3.73100406e-04, 9.56950746e-03, 8.12526114e-04, 8.63151367e-05,\n",
       "        7.14128582e-06, 1.53406290e-02, 4.27977769e-02, 2.86663466e-02,\n",
       "        3.37629632e-04, 6.31938627e-04, 1.52201981e-02, 2.20756026e-04,\n",
       "        2.24383650e-04, 1.47660065e-05, 9.94057016e-05, 5.55412187e-07,\n",
       "        6.37795972e-04, 2.46674426e-05, 3.26269207e-05, 2.29627946e-04,\n",
       "        3.71231322e-06, 5.17706900e-05, 4.44052957e-04, 2.86450096e-03,\n",
       "        3.77981685e-03, 3.35421358e-03, 5.04144966e-03, 3.51261145e-03,\n",
       "        2.00150915e-03, 9.17097371e-04, 1.63387215e-02, 4.04202184e-04,\n",
       "        7.85951875e-05, 6.62961557e-04, 1.72285752e-03, 7.62827455e-05,\n",
       "        1.03600194e-03, 6.15134634e-05, 1.03238967e-04, 2.15030874e-02,\n",
       "        5.26283941e-05, 1.49415527e-04, 5.89474057e-04, 7.54722311e-04,\n",
       "        4.70371556e-05, 9.71018235e-04, 4.76780455e-03, 2.55586688e-02,\n",
       "        2.73836729e-02, 3.29120360e-04, 4.88030564e-06, 5.91833329e-05,\n",
       "        3.00593840e-03, 8.20454478e-04, 2.58193858e-03, 2.65770815e-03,\n",
       "        4.91265292e-03, 9.11742719e-05, 2.68392374e-06, 3.22289837e-08,\n",
       "        3.41428459e-03, 6.24857523e-04, 2.32045104e-03, 3.05490000e-03,\n",
       "        1.42361756e-03, 2.61989253e-03, 1.17526195e-03, 8.14802291e-04,\n",
       "        6.00606758e-03, 1.05459537e-02, 1.79910419e-03, 6.75295883e-04,\n",
       "        2.14934187e-02, 1.13748961e-03, 1.29356783e-04, 4.59300531e-04,\n",
       "        3.53399517e-03, 1.02928812e-02, 3.27103125e-04, 5.16601695e-05,\n",
       "        2.54374348e-03, 4.10275961e-04, 8.51069805e-04, 2.79316458e-04,\n",
       "        5.41754633e-04, 1.48646264e-04, 1.30117345e-04, 1.39553176e-03,\n",
       "        5.73038858e-05, 2.67707880e-05, 7.44255543e-06, 4.51641595e-05,\n",
       "        9.81590212e-06, 4.52373660e-04, 8.84305815e-04, 8.47053647e-04,\n",
       "        1.87216241e-04, 3.61660554e-03, 3.19492670e-03, 4.14238226e-03,\n",
       "        1.47104076e-02, 7.77018130e-03, 3.93686997e-03, 1.79619510e-03,\n",
       "        1.10453975e-03, 6.50987834e-03, 8.52403574e-03, 7.04253137e-04,\n",
       "        3.32015046e-03, 7.08785073e-05, 6.25239657e-04, 7.48360935e-03,\n",
       "        4.08611940e-03, 9.27960857e-03, 1.18445749e-04, 2.89189773e-04,\n",
       "        3.73537285e-05, 9.52261476e-04, 1.00860284e-03, 2.85034869e-04,\n",
       "        1.25100958e-03, 1.07794726e-03, 4.49428334e-05, 1.23885161e-03,\n",
       "        4.56728698e-03, 1.11443434e-03, 1.33155622e-02, 1.66281889e-02,\n",
       "        9.35550508e-05, 2.01136575e-03, 6.53316276e-03, 4.22591055e-04,\n",
       "        5.02776182e-04, 7.23416384e-04, 4.39195890e-04, 2.76006743e-03,\n",
       "        3.86417544e-04, 4.52901425e-04, 1.63913285e-04, 8.40072722e-06,\n",
       "        3.33489874e-05, 4.10825232e-05, 2.64078497e-03, 1.02879144e-03,\n",
       "        1.22048525e-03, 5.55886707e-04, 1.39581331e-04, 3.15132260e-04,\n",
       "        1.04807905e-03, 1.45110224e-04, 5.81896329e-04, 1.34371694e-04,\n",
       "        3.16025462e-05, 1.84763762e-05, 2.02122696e-04, 6.69725452e-05,\n",
       "        3.07190748e-05, 7.59914707e-06, 8.82653160e-06, 2.79684371e-04,\n",
       "        1.70431216e-04, 1.60880906e-05, 1.45956662e-05, 1.05527483e-04,\n",
       "        4.31668698e-05, 6.04201751e-05, 2.03014692e-04, 3.61316209e-05,\n",
       "        3.80892570e-05, 9.69754681e-04, 5.74087089e-04, 1.03730956e-04,\n",
       "        1.31358853e-03, 1.79298458e-03, 1.35759518e-03, 1.44226154e-03,\n",
       "        1.60322003e-03, 4.49942755e-04, 8.78689751e-04, 4.55077574e-04,\n",
       "        2.56388253e-04, 1.96403072e-04, 5.12112880e-04, 4.96307535e-04,\n",
       "        2.35776983e-04, 1.21227056e-04, 2.63755965e-03, 4.71842420e-04,\n",
       "        6.48503959e-05, 9.77171515e-04, 7.05874561e-04, 4.14511965e-03,\n",
       "        2.40628302e-03, 4.88013105e-04, 6.21155272e-04, 9.50655989e-04,\n",
       "        3.35543970e-03, 9.31663871e-05, 5.45788001e-03, 4.04896997e-03,\n",
       "        3.29454621e-03, 5.52041800e-04, 1.41841830e-06, 1.13771594e-03,\n",
       "        1.81905828e-03, 2.96316361e-04, 2.96709577e-03, 2.95250133e-03,\n",
       "        3.64214408e-02, 3.03952335e-02, 5.23878140e-03, 2.14048329e-02,\n",
       "        7.75434709e-02, 1.16556325e-01, 1.02414131e-01, 4.39059458e-02,\n",
       "        1.52532559e-01, 7.17808425e-04, 3.36359224e-03, 1.54540691e-03,\n",
       "        8.65017532e-04, 1.18409732e-03, 6.43111971e-04, 1.39694454e-03,\n",
       "        3.68023145e-03, 1.76436668e-03, 1.23238306e-04, 1.62515676e-05,\n",
       "        1.99198051e-05, 9.90334307e-04, 1.51991417e-04, 6.44618294e-04,\n",
       "        4.87304123e-06, 3.44247607e-05, 4.36252034e-05, 1.57115013e-03,\n",
       "        6.26304974e-05, 3.07165394e-04, 2.15956245e-04, 7.15769130e-04,\n",
       "        8.86840106e-04, 1.27193118e-03, 2.54127531e-03, 3.93292704e-03,\n",
       "        3.60418084e-03, 3.48243788e-03, 9.33169051e-04, 7.25644849e-04,\n",
       "        1.22634786e-03, 3.16766559e-03, 1.86080579e-03, 9.05875194e-03,\n",
       "        5.57048730e-04, 2.48629936e-03, 3.89013870e-05, 4.28404125e-05,\n",
       "        4.54435891e-03, 1.23096062e-03, 7.73924571e-05, 3.76093034e-03,\n",
       "        5.39859468e-03, 2.24171886e-04, 1.52513948e-03, 6.99156734e-03,\n",
       "        6.61475687e-06, 7.26464487e-05, 1.52982957e-03, 4.48820106e-04,\n",
       "        6.00879966e-04, 1.76658139e-03, 2.90184976e-03, 1.92094459e-03,\n",
       "        1.88116813e-03, 2.25399711e-03, 4.41029503e-04, 1.08272870e-03,\n",
       "        4.11918977e-04, 5.65596687e-04, 8.80143345e-04, 9.73839753e-04,\n",
       "        2.51229263e-03, 2.00860701e-03, 2.08098644e-03, 4.82282455e-05,\n",
       "        7.51451465e-04, 1.75920577e-06, 1.83698833e-04, 1.59282003e-04,\n",
       "        6.16612651e-04, 1.29933840e-03, 1.75202880e-04, 6.08578133e-04,\n",
       "        1.61368094e-04, 6.80532843e-04, 1.27104069e-03, 3.76044203e-04,\n",
       "        4.71813134e-05, 5.78846148e-04, 6.35495846e-04, 8.07523948e-04,\n",
       "        4.15480902e-04, 3.36544583e-04, 3.42619847e-04, 3.89444126e-04,\n",
       "        3.07015006e-04, 1.11764454e-06, 8.41606654e-05, 1.19266018e-04,\n",
       "        3.11024431e-04, 2.07069330e-04, 3.05389442e-04, 4.58212010e-04,\n",
       "        1.69932959e-04, 4.48278969e-04, 2.70444326e-04, 2.50891775e-04,\n",
       "        6.84669164e-04, 3.02979437e-03, 3.87938459e-05, 3.08253038e-04,\n",
       "        5.91010146e-05, 4.86326987e-07, 1.10724346e-04, 6.53881455e-04,\n",
       "        7.68718511e-04, 4.05386201e-04, 4.09483168e-04, 7.31563056e-04,\n",
       "        1.61559443e-04, 3.73424724e-05, 1.25321206e-04, 2.88221189e-04,\n",
       "        1.92127561e-04, 4.22851211e-03, 2.44570257e-03, 1.40527122e-03,\n",
       "        1.08888543e-05, 2.76838288e-06, 3.54628652e-05, 2.86913053e-07,\n",
       "        2.41808293e-05, 6.52056509e-05, 8.24426899e-06, 3.97118343e-05,\n",
       "        2.87033270e-04, 2.72299652e-04, 1.17013783e-04, 1.07255788e-04,\n",
       "        3.05319780e-04, 3.10893013e-03]),\n",
       " array([1.        , 1.        , 0.99999982, 0.99999993, 0.99999945,\n",
       "        0.99999999, 1.        , 0.99999973, 1.        , 1.        ,\n",
       "        0.99999974, 1.        , 1.        , 1.        , 1.        ,\n",
       "        1.        , 1.        , 1.        , 1.        , 1.        ,\n",
       "        0.99999996, 1.        , 0.99999991, 0.99999996, 0.99999998,\n",
       "        0.99999997, 1.        , 0.99999991, 0.99999998, 1.        ,\n",
       "        0.99999984, 0.99999986, 0.99999981, 0.99999989, 0.99999966,\n",
       "        1.        , 1.        , 1.        , 1.        , 1.        ,\n",
       "        0.99999998, 0.99999919, 0.99999997, 0.99999989, 0.99999999,\n",
       "        0.99999998, 0.99999998, 0.99999998, 0.99999999, 1.        ,\n",
       "        1.        , 1.        , 0.99999998, 1.        , 0.9999979 ,\n",
       "        0.99999994, 0.99999972, 0.99999995, 1.        , 1.        ,\n",
       "        1.        , 0.99999998, 1.        , 1.        , 0.99999999,\n",
       "        0.99999885, 0.99999743, 0.99999999, 0.99999999, 1.        ,\n",
       "        0.99999938, 0.9999999 , 0.99999972, 0.99999944, 0.99999975,\n",
       "        0.99999999, 1.        , 0.99999999, 1.        , 0.99999999,\n",
       "        1.        , 1.        , 1.        , 1.        , 1.        ,\n",
       "        1.        , 1.        , 1.        , 1.        , 1.        ,\n",
       "        1.        , 1.        , 1.        , 1.        , 1.        ,\n",
       "        1.        , 1.        , 0.9999994 , 0.99998373, 0.99999998,\n",
       "        1.        , 1.        , 0.99999999, 1.        , 1.        ,\n",
       "        1.        , 1.        , 1.        , 1.        , 1.        ,\n",
       "        1.        , 1.        , 1.        , 1.        , 1.        ,\n",
       "        1.        , 1.        , 1.        , 1.        , 1.        ,\n",
       "        1.        , 1.        , 1.        , 1.        , 1.        ,\n",
       "        1.        , 0.99999999, 1.        , 0.99999998, 0.99999998,\n",
       "        1.        , 1.        , 1.        , 1.        , 0.99999999,\n",
       "        0.99999999, 1.        , 0.99999994, 0.99999982, 1.        ,\n",
       "        0.99999972, 1.        , 0.99993731, 1.        , 1.        ,\n",
       "        0.99999978, 1.        , 1.        , 1.        , 1.        ,\n",
       "        1.        , 0.99999999, 0.99999198, 1.        , 0.99994292,\n",
       "        0.99982763, 0.99999999, 0.99997362, 0.99999994, 1.        ,\n",
       "        1.        , 0.99991506, 0.99894884, 0.99960413, 0.99999999,\n",
       "        0.99999997, 0.9999167 , 1.        , 1.        , 1.        ,\n",
       "        1.        , 1.        , 0.99999997, 1.        , 1.        ,\n",
       "        1.        , 1.        , 1.        , 0.99999999, 0.99999869,\n",
       "        0.99999739, 0.99999806, 0.99999464, 0.99999782, 0.99999947,\n",
       "        0.99999992, 0.99990074, 0.99999999, 1.        , 0.99999997,\n",
       "        0.99999963, 1.        , 0.9999999 , 1.        , 1.        ,\n",
       "        0.99980459, 1.        , 1.        , 0.99999997, 0.99999995,\n",
       "        1.        , 0.99999991, 0.99999534, 0.9997012 , 0.99964613,\n",
       "        0.99999999, 1.        , 1.        , 0.99999852, 0.99999994,\n",
       "        0.99999899, 0.99999891, 0.99999498, 1.        , 1.        ,\n",
       "        1.        , 0.99999797, 0.99999997, 0.99999923, 0.99999846,\n",
       "        0.99999977, 0.99999895, 0.99999986, 0.99999994, 0.99999172,\n",
       "        0.99996643, 0.99999959, 0.99999996, 0.9998048 , 0.99999987,\n",
       "        1.        , 0.99999999, 0.99999779, 0.99996839, 0.99999999,\n",
       "        1.        , 0.99999903, 0.99999999, 0.99999994, 1.        ,\n",
       "        0.99999998, 1.        , 1.        , 0.99999978, 1.        ,\n",
       "        1.        , 1.        , 1.        , 1.        , 0.99999999,\n",
       "        0.99999993, 0.99999994, 1.        , 0.99999766, 0.99999828,\n",
       "        0.99999672, 0.99992343, 0.99998428, 0.99999711, 0.99999959,\n",
       "        0.99999988, 0.99998988, 0.99998021, 0.99999996, 0.99999811,\n",
       "        1.        , 0.99999997, 0.99998568, 0.99999683, 0.99997556,\n",
       "        1.        , 1.        , 1.        , 0.99999992, 0.9999999 ,\n",
       "        1.        , 0.99999983, 0.99999989, 1.        , 0.99999984,\n",
       "        0.99999581, 0.99999988, 0.99994016, 0.99989634, 1.        ,\n",
       "        0.99999946, 0.99998979, 0.99999999, 0.99999998, 0.99999996,\n",
       "        0.99999999, 0.99999881, 0.99999999, 0.99999999, 1.        ,\n",
       "        1.        , 1.        , 1.        , 0.99999893, 0.9999999 ,\n",
       "        0.99999984, 0.99999998, 1.        , 0.99999999, 0.99999989,\n",
       "        1.        , 0.99999998, 1.        , 1.        , 1.        ,\n",
       "        1.        , 1.        , 1.        , 1.        , 1.        ,\n",
       "        1.        , 1.        , 1.        , 1.        , 1.        ,\n",
       "        1.        , 1.        , 1.        , 1.        , 1.        ,\n",
       "        0.99999991, 0.99999998, 1.        , 0.99999981, 0.99999959,\n",
       "        0.9999998 , 0.99999976, 0.99999969, 0.99999999, 0.99999993,\n",
       "        0.99999999, 1.        , 1.        , 0.99999998, 0.99999998,\n",
       "        1.        , 1.        , 0.99999893, 0.99999999, 1.        ,\n",
       "        0.99999991, 0.99999996, 0.99999671, 0.99999915, 0.99999998,\n",
       "        0.99999997, 0.99999992, 0.99999806, 1.        , 0.99999347,\n",
       "        0.9999969 , 0.99999814, 0.99999998, 1.        , 0.99999987,\n",
       "        0.99999958, 1.        , 0.99999857, 0.99999859, 0.99928966,\n",
       "        0.99954314, 0.9999941 , 0.99980678, 0.99563443, 0.9887159 ,\n",
       "        0.9916267 , 0.99888169, 0.97925056, 0.99999996, 0.99999805,\n",
       "        0.99999972, 0.99999993, 0.99999986, 0.99999997, 0.99999978,\n",
       "        0.99999755, 0.99999961, 1.        , 1.        , 1.        ,\n",
       "        0.99999991, 1.        , 0.99999997, 1.        , 1.        ,\n",
       "        1.        , 0.99999971, 1.        , 1.        , 1.        ,\n",
       "        0.99999996, 0.99999993, 0.99999983, 0.99999903, 0.99999711,\n",
       "        0.99999768, 0.99999787, 0.99999992, 0.99999996, 0.99999984,\n",
       "        0.99999832, 0.99999955, 0.99997698, 0.99999998, 0.99999908,\n",
       "        1.        , 1.        , 0.99999586, 0.99999984, 1.        ,\n",
       "        0.99999742, 0.99999365, 1.        , 0.99999973, 0.99998791,\n",
       "        1.        , 1.        , 0.99999973, 0.99999999, 0.99999997,\n",
       "        0.99999961, 0.99999865, 0.99999952, 0.99999954, 0.99999928,\n",
       "        0.99999999, 0.99999988, 0.99999999, 0.99999998, 0.99999993,\n",
       "        0.99999991, 0.99999906, 0.99999946, 0.99999941, 1.        ,\n",
       "        0.99999995, 1.        , 1.        , 1.        , 0.99999997,\n",
       "        0.99999982, 1.        , 0.99999997, 1.        , 0.99999996,\n",
       "        0.99999983, 0.99999999, 1.        , 0.99999998, 0.99999997,\n",
       "        0.99999994, 0.99999999, 0.99999999, 0.99999999, 0.99999999,\n",
       "        1.        , 1.        , 1.        , 1.        , 0.99999999,\n",
       "        1.        , 1.        , 0.99999999, 1.        , 0.99999999,\n",
       "        1.        , 1.        , 0.99999996, 0.99999849, 1.        ,\n",
       "        1.        , 1.        , 1.        , 1.        , 0.99999997,\n",
       "        0.99999995, 0.99999999, 0.99999999, 0.99999996, 1.        ,\n",
       "        1.        , 1.        , 1.        , 1.        , 0.99999654,\n",
       "        0.99999912, 0.99999978, 1.        , 1.        , 1.        ,\n",
       "        1.        , 1.        , 1.        , 1.        , 1.        ,\n",
       "        1.        , 1.        , 1.        , 1.        , 1.        ,\n",
       "        0.99999839]))"
      ]
     },
     "execution_count": 32,
     "metadata": {},
     "output_type": "execute_result"
    }
   ],
   "source": [
    "c, p"
   ]
  },
  {
   "cell_type": "code",
   "execution_count": 33,
   "metadata": {},
   "outputs": [
    {
     "data": {
      "image/png": "[encoded data removed]",
      "text/plain": [
       "<Figure size 640x480 with 1 Axes>"
      ]
     },
     "metadata": {},
     "output_type": "display_data"
    }
   ],
   "source": [
    "import numpy as np\n",
    "from sklearn.linear_model import LinearRegression\n",
    "\n",
    "x = influence.hat_matrix_diag\n",
    "y = inf_df.standard_resid\n",
    "plt.scatter(x, y)\n",
    "fit = np.polyfit(x, y, 1)\n",
    "fit_fn = np.poly1d(fit)\n",
    "plt.plot(x, fit_fn(x))\n",
    "plt.xlabel(\"Leverage\")\n",
    "plt.ylabel(\"Standardized residual\")\n",
    "plt.title(\"Laverage vs. Residual\")\n",
    "plt.show()"
   ]
  },
  {
   "cell_type": "code",
   "execution_count": 34,
   "metadata": {},
   "outputs": [],
   "source": [
    "import numpy as np\n",
    "import matplotlib.pyplot as plt\n",
    "%matplotlib inline\n",
    "%config InlineBackend.figure_format = 'retina'"
   ]
  },
  {
   "cell_type": "code",
   "execution_count": 35,
   "metadata": {},
   "outputs": [],
   "source": [
    "import statsmodels.api as sm\n",
    "Boston = sm.datasets.get_rdataset(\"Boston\", package=\"MASS\")\n",
    "boston_df = Boston.data"
   ]
  },
  {
   "cell_type": "code",
   "execution_count": 36,
   "metadata": {},
   "outputs": [],
   "source": [
    "formula = \"medv~\" + \"+\".join(boston_df.iloc[:, :-1].columns)"
   ]
  },
  {
   "cell_type": "code",
   "execution_count": 37,
   "metadata": {},
   "outputs": [],
   "source": [
    "from patsy import dmatrices\n",
    "y, X = dmatrices(formula, boston_df, return_type=\"dataframe\")"
   ]
  },
  {
   "cell_type": "code",
   "execution_count": 38,
   "metadata": {},
   "outputs": [],
   "source": [
    "import pandas as pd\n",
    "df = pd.DataFrame()"
   ]
  },
  {
   "cell_type": "code",
   "execution_count": 39,
   "metadata": {},
   "outputs": [],
   "source": [
    "from statsmodels.stats.outliers_influence import variance_inflation_factor"
   ]
  },
  {
   "cell_type": "code",
   "execution_count": 40,
   "metadata": {},
   "outputs": [
    {
     "data": {
      "text/plain": [
       "14"
      ]
     },
     "execution_count": 40,
     "metadata": {},
     "output_type": "execute_result"
    }
   ],
   "source": [
    "X.shape[1] # 독립변수 X의 열의 수"
   ]
  },
  {
   "cell_type": "code",
   "execution_count": 41,
   "metadata": {},
   "outputs": [],
   "source": [
    "df[\"vif\"] = [variance_inflation_factor(X.values, i) for i in range(X.shape[1])]"
   ]
  },
  {
   "cell_type": "code",
   "execution_count": 42,
   "metadata": {},
   "outputs": [],
   "source": [
    "df[\"features\"] = X.columns"
   ]
  },
  {
   "cell_type": "code",
   "execution_count": 43,
   "metadata": {},
   "outputs": [
    {
     "data": {
      "text/html": [
       "<div>\n",
       "<style scoped>\n",
       "    .dataframe tbody tr th:only-of-type {\n",
       "        vertical-align: middle;\n",
       "    }\n",
       "\n",
       "    .dataframe tbody tr th {\n",
       "        vertical-align: top;\n",
       "    }\n",
       "\n",
       "    .dataframe thead th {\n",
       "        text-align: right;\n",
       "    }\n",
       "</style>\n",
       "<table border=\"1\" class=\"dataframe\">\n",
       "  <thead>\n",
       "    <tr style=\"text-align: right;\">\n",
       "      <th></th>\n",
       "      <th>vif</th>\n",
       "      <th>features</th>\n",
       "    </tr>\n",
       "  </thead>\n",
       "  <tbody>\n",
       "    <tr>\n",
       "      <th>0</th>\n",
       "      <td>585.265238</td>\n",
       "      <td>Intercept</td>\n",
       "    </tr>\n",
       "    <tr>\n",
       "      <th>1</th>\n",
       "      <td>1.792192</td>\n",
       "      <td>crim</td>\n",
       "    </tr>\n",
       "    <tr>\n",
       "      <th>2</th>\n",
       "      <td>2.298758</td>\n",
       "      <td>zn</td>\n",
       "    </tr>\n",
       "    <tr>\n",
       "      <th>3</th>\n",
       "      <td>3.991596</td>\n",
       "      <td>indus</td>\n",
       "    </tr>\n",
       "    <tr>\n",
       "      <th>4</th>\n",
       "      <td>1.073995</td>\n",
       "      <td>chas</td>\n",
       "    </tr>\n",
       "    <tr>\n",
       "      <th>5</th>\n",
       "      <td>4.393720</td>\n",
       "      <td>nox</td>\n",
       "    </tr>\n",
       "    <tr>\n",
       "      <th>6</th>\n",
       "      <td>1.933744</td>\n",
       "      <td>rm</td>\n",
       "    </tr>\n",
       "    <tr>\n",
       "      <th>7</th>\n",
       "      <td>3.100826</td>\n",
       "      <td>age</td>\n",
       "    </tr>\n",
       "    <tr>\n",
       "      <th>8</th>\n",
       "      <td>3.955945</td>\n",
       "      <td>dis</td>\n",
       "    </tr>\n",
       "    <tr>\n",
       "      <th>9</th>\n",
       "      <td>7.484496</td>\n",
       "      <td>rad</td>\n",
       "    </tr>\n",
       "    <tr>\n",
       "      <th>10</th>\n",
       "      <td>9.008554</td>\n",
       "      <td>tax</td>\n",
       "    </tr>\n",
       "    <tr>\n",
       "      <th>11</th>\n",
       "      <td>1.799084</td>\n",
       "      <td>ptratio</td>\n",
       "    </tr>\n",
       "    <tr>\n",
       "      <th>12</th>\n",
       "      <td>1.348521</td>\n",
       "      <td>black</td>\n",
       "    </tr>\n",
       "    <tr>\n",
       "      <th>13</th>\n",
       "      <td>2.941491</td>\n",
       "      <td>lstat</td>\n",
       "    </tr>\n",
       "  </tbody>\n",
       "</table>\n",
       "</div>"
      ],
      "text/plain": [
       "           vif   features\n",
       "0   585.265238  Intercept\n",
       "1     1.792192       crim\n",
       "2     2.298758         zn\n",
       "3     3.991596      indus\n",
       "4     1.073995       chas\n",
       "5     4.393720        nox\n",
       "6     1.933744         rm\n",
       "7     3.100826        age\n",
       "8     3.955945        dis\n",
       "9     7.484496        rad\n",
       "10    9.008554        tax\n",
       "11    1.799084    ptratio\n",
       "12    1.348521      black\n",
       "13    2.941491      lstat"
      ]
     },
     "execution_count": 43,
     "metadata": {},
     "output_type": "execute_result"
    }
   ],
   "source": [
    "df"
   ]
  },
  {
   "cell_type": "code",
   "execution_count": null,
   "metadata": {},
   "outputs": [],
   "source": []
  }
 ],
 "metadata": {
  "kernelspec": {
   "display_name": "Python 3 (ipykernel)",
   "language": "python",
   "name": "python3"
  },
  "language_info": {
   "codemirror_mode": {
    "name": "ipython",
    "version": 3
   },
   "file_extension": ".py",
   "mimetype": "text/x-python",
   "name": "python",
   "nbconvert_exporter": "python",
   "pygments_lexer": "ipython3",
   "version": "3.11.7"
  },
  "toc": {
   "base_numbering": 1,
   "nav_menu": {},
   "number_sections": true,
   "sideBar": true,
   "skip_h1_title": false,
   "title_cell": "Table of Contents",
   "title_sidebar": "Contents",
   "toc_cell": false,
   "toc_position": {},
   "toc_section_display": true,
   "toc_window_display": false
  }
 },
 "nbformat": 4,
 "nbformat_minor": 4
}
